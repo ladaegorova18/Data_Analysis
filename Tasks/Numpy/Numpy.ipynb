{
 "cells": [
  {
   "cell_type": "code",
   "execution_count": 2,
   "id": "bcbce01c",
   "metadata": {},
   "outputs": [
    {
     "name": "stdout",
     "output_type": "stream",
     "text": [
      "1.21.2\n",
      "1.7.3\n"
     ]
    }
   ],
   "source": [
    "import numpy as np # библиотека векторных вычислений (C)\n",
    "print(np.__version__)\n",
    "\n",
    "import scipy as sc # научные вычислений (С++, Fortran)\n",
    "print(sc.__version__)"
   ]
  },
  {
   "cell_type": "markdown",
   "id": "d366b2b2",
   "metadata": {},
   "source": [
    "# Циклы?"
   ]
  },
  {
   "cell_type": "code",
   "execution_count": 4,
   "id": "012fb3f9",
   "metadata": {},
   "outputs": [
    {
     "data": {
      "text/plain": [
       "array([   0,    1,    2, ..., 9997, 9998, 9999])"
      ]
     },
     "execution_count": 4,
     "metadata": {},
     "output_type": "execute_result"
    }
   ],
   "source": [
    "Py_list = list(range(10000))\n",
    "Np_list = np.arange(10000)\n"
   ]
  },
  {
   "cell_type": "code",
   "execution_count": 5,
   "id": "8eb9e713",
   "metadata": {},
   "outputs": [
    {
     "name": "stdout",
     "output_type": "stream",
     "text": [
      "195 µs ± 5.78 µs per loop (mean ± std. dev. of 7 runs, 10000 loops each)\n"
     ]
    }
   ],
   "source": [
    "%%timeit\n",
    "\n",
    "for i in Py_list: # эквивалентно [i * i for i in Py_list]\n",
    "    i*i"
   ]
  },
  {
   "cell_type": "code",
   "execution_count": 6,
   "id": "91e4ae0c",
   "metadata": {},
   "outputs": [
    {
     "name": "stdout",
     "output_type": "stream",
     "text": [
      "3.09 µs ± 126 ns per loop (mean ± std. dev. of 7 runs, 100000 loops each)\n"
     ]
    }
   ],
   "source": [
    "%%timeit\n",
    "Np_list * Np_list"
   ]
  },
  {
   "cell_type": "markdown",
   "id": "160c3f46",
   "metadata": {},
   "source": [
    "## А если двумерный?"
   ]
  },
  {
   "cell_type": "code",
   "execution_count": 7,
   "id": "1e3df446",
   "metadata": {},
   "outputs": [
    {
     "data": {
      "text/plain": [
       "[[0, 0, 0, 0, 0, 0, 0, 0, 0, 0],\n",
       " [1, 1, 1, 1, 1, 1, 1, 1, 1, 1],\n",
       " [2, 2, 2, 2, 2, 2, 2, 2, 2, 2],\n",
       " [3, 3, 3, 3, 3, 3, 3, 3, 3, 3],\n",
       " [4, 4, 4, 4, 4, 4, 4, 4, 4, 4],\n",
       " [5, 5, 5, 5, 5, 5, 5, 5, 5, 5],\n",
       " [6, 6, 6, 6, 6, 6, 6, 6, 6, 6],\n",
       " [7, 7, 7, 7, 7, 7, 7, 7, 7, 7],\n",
       " [8, 8, 8, 8, 8, 8, 8, 8, 8, 8],\n",
       " [9, 9, 9, 9, 9, 9, 9, 9, 9, 9]]"
      ]
     },
     "execution_count": 7,
     "metadata": {},
     "output_type": "execute_result"
    }
   ],
   "source": [
    "col, row = 10, 10\n",
    "ar = [[i for j in range(col)] for i in range(row)]\n",
    "ar\n",
    "# Тоже самое\n",
    "# ar= [[0] * row] * col\n",
    "# for i in range(row):\n",
    "#     for j in range(col):\n",
    "#         ar[i][j] = j"
   ]
  },
  {
   "cell_type": "code",
   "execution_count": 8,
   "id": "31115458",
   "metadata": {},
   "outputs": [
    {
     "name": "stdout",
     "output_type": "stream",
     "text": [
      "The slowest run took 4.03 times longer than the fastest. This could mean that an intermediate result is being cached.\n",
      "113 µs ± 45.7 µs per loop (mean ± std. dev. of 7 runs, 10000 loops each)\n"
     ]
    }
   ],
   "source": [
    "%%timeit\n",
    "for i in range(row):\n",
    "    for j in range(col):\n",
    "        ar[i][j]*= 2"
   ]
  },
  {
   "cell_type": "code",
   "execution_count": 9,
   "id": "884898cc",
   "metadata": {},
   "outputs": [
    {
     "name": "stdout",
     "output_type": "stream",
     "text": [
      "220 µs ± 2.38 µs per loop (mean ± std. dev. of 7 runs, 1000 loops each)\n"
     ]
    }
   ],
   "source": [
    "%%timeit\n",
    "Np_list2D = np.asarray(ar)\n",
    "Np_list2D = Np_list2D*2"
   ]
  },
  {
   "cell_type": "markdown",
   "id": "6852593e",
   "metadata": {},
   "source": [
    "# Как создать массив?"
   ]
  },
  {
   "cell_type": "code",
   "execution_count": 10,
   "id": "5930f1ec",
   "metadata": {},
   "outputs": [
    {
     "data": {
      "text/plain": [
       "array([1, 2, 3])"
      ]
     },
     "execution_count": 10,
     "metadata": {},
     "output_type": "execute_result"
    }
   ],
   "source": [
    "Np_list = np.array([1,2,3]) #создаст копию списка\n",
    "Np_list"
   ]
  },
  {
   "cell_type": "code",
   "execution_count": 18,
   "id": "79da62fb",
   "metadata": {},
   "outputs": [
    {
     "data": {
      "text/plain": [
       "numpy.float64"
      ]
     },
     "execution_count": 18,
     "metadata": {},
     "output_type": "execute_result"
    }
   ],
   "source": [
    "Np_list = np.array([1,2,3])\n",
    "type(Np_list[2])"
   ]
  },
  {
   "cell_type": "markdown",
   "id": "22291cb0",
   "metadata": {},
   "source": [
    "# Типы dtype\n",
    "![jupyter](./МАПЗ/Рисунок1.jpg)\n",
    "\n",
    "https://numpy.org/doc/stable/reference/arrays.dtypes.html"
   ]
  },
  {
   "cell_type": "code",
   "execution_count": 26,
   "id": "28d5e444",
   "metadata": {},
   "outputs": [
    {
     "data": {
      "text/plain": [
       "array([[1, 2, 3],\n",
       "       [1, 2, 3],\n",
       "       [1, 2, 3],\n",
       "       [1, 2, 3]])"
      ]
     },
     "execution_count": 26,
     "metadata": {},
     "output_type": "execute_result"
    }
   ],
   "source": [
    "Np_list = np.array([[1,2,3],\n",
    "                   [1,2,3],\n",
    "                   [1,2,3],\n",
    "                   [1,2,3]])\n",
    "Np_list"
   ]
  },
  {
   "cell_type": "code",
   "execution_count": 27,
   "id": "9a321c19",
   "metadata": {},
   "outputs": [
    {
     "data": {
      "text/plain": [
       "(4, 3)"
      ]
     },
     "execution_count": 27,
     "metadata": {},
     "output_type": "execute_result"
    }
   ],
   "source": [
    "Np_list.shape # размер массива"
   ]
  },
  {
   "cell_type": "code",
   "execution_count": 28,
   "id": "1adeb2e6",
   "metadata": {},
   "outputs": [
    {
     "data": {
      "text/plain": [
       "2"
      ]
     },
     "execution_count": 28,
     "metadata": {},
     "output_type": "execute_result"
    }
   ],
   "source": [
    "Np_list.ndim # количество размерностей"
   ]
  },
  {
   "cell_type": "code",
   "execution_count": 29,
   "id": "3c044427",
   "metadata": {},
   "outputs": [
    {
     "name": "stdout",
     "output_type": "stream",
     "text": [
      "int32\n",
      "<class 'numpy.ndarray'>\n",
      "<class 'numpy.int32'>\n"
     ]
    }
   ],
   "source": [
    "print(Np_list.dtype) # правильный вариант\n",
    "print(type(Np_list)) # неправильный вариант\n",
    "print(type(Np_list[0][0])) # но зачем?)"
   ]
  },
  {
   "cell_type": "code",
   "execution_count": 33,
   "id": "04931cd1",
   "metadata": {},
   "outputs": [
    {
     "data": {
      "text/plain": [
       "dtype('float64')"
      ]
     },
     "execution_count": 33,
     "metadata": {},
     "output_type": "execute_result"
    }
   ],
   "source": [
    "Np_list.astype(int)\n",
    "Np_list.dtype"
   ]
  },
  {
   "cell_type": "markdown",
   "id": "b4952a7c",
   "metadata": {},
   "source": [
    "### Strides"
   ]
  },
  {
   "cell_type": "code",
   "execution_count": 34,
   "id": "6ea664d9",
   "metadata": {},
   "outputs": [
    {
     "data": {
      "text/plain": [
       "array([[1., 2., 3.],\n",
       "       [1., 2., 3.],\n",
       "       [1., 2., 3.],\n",
       "       [1., 2., 3.]])"
      ]
     },
     "execution_count": 34,
     "metadata": {},
     "output_type": "execute_result"
    }
   ],
   "source": [
    "Np_list"
   ]
  },
  {
   "cell_type": "code",
   "execution_count": 35,
   "id": "01ab56a4",
   "metadata": {},
   "outputs": [
    {
     "data": {
      "text/plain": [
       "dtype('float64')"
      ]
     },
     "execution_count": 35,
     "metadata": {},
     "output_type": "execute_result"
    }
   ],
   "source": [
    "Np_list.dtype"
   ]
  },
  {
   "cell_type": "code",
   "execution_count": 36,
   "id": "5f8f18c6",
   "metadata": {},
   "outputs": [
    {
     "data": {
      "text/plain": [
       "8"
      ]
     },
     "execution_count": 36,
     "metadata": {},
     "output_type": "execute_result"
    }
   ],
   "source": [
    "Np_list.dtype.itemsize #размер объекта внутри массива"
   ]
  },
  {
   "cell_type": "code",
   "execution_count": 37,
   "id": "88e6297b",
   "metadata": {},
   "outputs": [
    {
     "data": {
      "text/plain": [
       "(4, 3)"
      ]
     },
     "execution_count": 37,
     "metadata": {},
     "output_type": "execute_result"
    }
   ],
   "source": [
    "Np_list.shape"
   ]
  },
  {
   "cell_type": "code",
   "execution_count": 38,
   "id": "0ccddcb5",
   "metadata": {},
   "outputs": [
    {
     "data": {
      "text/plain": [
       "(24, 8)"
      ]
     },
     "execution_count": 38,
     "metadata": {},
     "output_type": "execute_result"
    }
   ],
   "source": [
    "Np_list.strides # (переход на следующую строку, переход на следующий элемент)"
   ]
  },
  {
   "cell_type": "code",
   "execution_count": 42,
   "id": "bb1b3884",
   "metadata": {},
   "outputs": [
    {
     "data": {
      "text/plain": [
       "(3, 4)"
      ]
     },
     "execution_count": 42,
     "metadata": {},
     "output_type": "execute_result"
    }
   ],
   "source": [
    "Np_list = Np_list.reshape(3,4) #изменяем размер\n",
    "Np_list.shape\n"
   ]
  },
  {
   "cell_type": "code",
   "execution_count": 43,
   "id": "8dc31dda",
   "metadata": {},
   "outputs": [
    {
     "data": {
      "text/plain": [
       "(32, 8)"
      ]
     },
     "execution_count": 43,
     "metadata": {},
     "output_type": "execute_result"
    }
   ],
   "source": [
    "Np_list.strides #проверяем"
   ]
  },
  {
   "cell_type": "code",
   "execution_count": 55,
   "id": "a41a836f",
   "metadata": {},
   "outputs": [
    {
     "data": {
      "text/plain": [
       "array([[1., 2., 3.],\n",
       "       [1., 2., 3.],\n",
       "       [1., 2., 3.],\n",
       "       [1., 2., 3.]])"
      ]
     },
     "execution_count": 55,
     "metadata": {},
     "output_type": "execute_result"
    }
   ],
   "source": [
    "Np_list = Np_list.reshape(4,3) # -1 заменяет необходимый аргумент в кол-ве \n",
    "Np_list.shape\n",
    "Np_list"
   ]
  },
  {
   "cell_type": "markdown",
   "id": "6e10f77e",
   "metadata": {},
   "source": [
    "## Ещё изменение массивов"
   ]
  },
  {
   "cell_type": "code",
   "execution_count": 61,
   "id": "342094c7",
   "metadata": {},
   "outputs": [
    {
     "data": {
      "text/plain": [
       "array([[1, 2, 3],\n",
       "       [1, 2, 3],\n",
       "       [1, 2, 3]])"
      ]
     },
     "execution_count": 61,
     "metadata": {},
     "output_type": "execute_result"
    }
   ],
   "source": [
    "Np_list = np.array([[1,2,3],\n",
    "                   [1,2,3],\n",
    "                   [1,2,3]])\n",
    "Np_list"
   ]
  },
  {
   "cell_type": "code",
   "execution_count": 57,
   "id": "2c6c0737",
   "metadata": {},
   "outputs": [
    {
     "name": "stdout",
     "output_type": "stream",
     "text": [
      "[[-10   2   3]\n",
      " [  1   2   3]\n",
      " [  1   2   3]]\n",
      "[1 2 3 1 2 3 1 2 3]\n"
     ]
    }
   ],
   "source": [
    "temp = Np_list.flatten() # копия\n",
    "Np_list[0,0]= -10\n",
    "print(Np_list)\n",
    "print(temp)"
   ]
  },
  {
   "cell_type": "code",
   "execution_count": 58,
   "id": "423fc934",
   "metadata": {},
   "outputs": [
    {
     "name": "stdout",
     "output_type": "stream",
     "text": [
      "[[-20   2   3]\n",
      " [  1   2   3]\n",
      " [  1   2   3]]\n",
      "[-20   2   3   1   2   3   1   2   3]\n"
     ]
    }
   ],
   "source": [
    "temp = Np_list.ravel() # не возвращает копию\n",
    "Np_list[0,0]= -20\n",
    "print(Np_list)\n",
    "print(temp)"
   ]
  },
  {
   "cell_type": "code",
   "execution_count": 63,
   "id": "de38af9b",
   "metadata": {},
   "outputs": [
    {
     "name": "stdout",
     "output_type": "stream",
     "text": [
      "[[1 5 1]\n",
      " [2 2 2]\n",
      " [3 3 3]]\n",
      "[[1 2 3]\n",
      " [5 2 3]\n",
      " [1 2 3]]\n",
      "[[1 5 1]\n",
      " [2 2 2]\n",
      " [3 3 3]]\n"
     ]
    }
   ],
   "source": [
    "temp = Np_list.T # НЕ СОЗДАЁТ КОПИЮ!\n",
    "print(temp)\n",
    "temp[0][1] = 5\n",
    "print(Np_list)\n",
    "print(temp)"
   ]
  },
  {
   "cell_type": "markdown",
   "id": "448123f5",
   "metadata": {},
   "source": [
    "## Особые массивы"
   ]
  },
  {
   "cell_type": "code",
   "execution_count": 71,
   "id": "71bc2776",
   "metadata": {},
   "outputs": [
    {
     "data": {
      "text/plain": [
       "array([[0., 0., 0., 0., 0., 0., 0., 0., 0., 0.],\n",
       "       [0., 0., 0., 0., 0., 0., 0., 0., 0., 0.],\n",
       "       [0., 0., 0., 0., 0., 0., 0., 0., 0., 0.],\n",
       "       [0., 0., 0., 0., 0., 0., 0., 0., 0., 0.],\n",
       "       [0., 0., 0., 0., 0., 0., 0., 0., 0., 0.],\n",
       "       [0., 0., 0., 0., 0., 0., 0., 0., 0., 0.],\n",
       "       [0., 0., 0., 0., 0., 0., 0., 0., 0., 0.],\n",
       "       [0., 0., 0., 0., 0., 0., 0., 0., 0., 0.],\n",
       "       [0., 0., 0., 0., 0., 0., 0., 0., 0., 0.],\n",
       "       [0., 0., 0., 0., 0., 0., 0., 0., 0., 0.]])"
      ]
     },
     "execution_count": 71,
     "metadata": {},
     "output_type": "execute_result"
    }
   ],
   "source": [
    "np.zeros(shape = (10,10))"
   ]
  },
  {
   "cell_type": "code",
   "execution_count": 72,
   "id": "39d94f8c",
   "metadata": {},
   "outputs": [
    {
     "data": {
      "text/plain": [
       "array([[0, 0, 0],\n",
       "       [0, 0, 0],\n",
       "       [0, 0, 0]])"
      ]
     },
     "execution_count": 72,
     "metadata": {},
     "output_type": "execute_result"
    }
   ],
   "source": [
    "np.zeros_like(Np_list)"
   ]
  },
  {
   "cell_type": "code",
   "execution_count": 75,
   "id": "c30dc44f",
   "metadata": {},
   "outputs": [
    {
     "data": {
      "text/plain": [
       "array([[1., 1., 1., 1., 1., 1., 1., 1., 1., 1.],\n",
       "       [1., 1., 1., 1., 1., 1., 1., 1., 1., 1.],\n",
       "       [1., 1., 1., 1., 1., 1., 1., 1., 1., 1.],\n",
       "       [1., 1., 1., 1., 1., 1., 1., 1., 1., 1.],\n",
       "       [1., 1., 1., 1., 1., 1., 1., 1., 1., 1.],\n",
       "       [1., 1., 1., 1., 1., 1., 1., 1., 1., 1.],\n",
       "       [1., 1., 1., 1., 1., 1., 1., 1., 1., 1.],\n",
       "       [1., 1., 1., 1., 1., 1., 1., 1., 1., 1.],\n",
       "       [1., 1., 1., 1., 1., 1., 1., 1., 1., 1.],\n",
       "       [1., 1., 1., 1., 1., 1., 1., 1., 1., 1.]])"
      ]
     },
     "execution_count": 75,
     "metadata": {},
     "output_type": "execute_result"
    }
   ],
   "source": [
    "np.ones((10,10))"
   ]
  },
  {
   "cell_type": "code",
   "execution_count": 76,
   "id": "a6e76536",
   "metadata": {},
   "outputs": [
    {
     "data": {
      "text/plain": [
       "array([[1., 0., 0., 0., 0., 0., 0., 0., 0., 0.],\n",
       "       [0., 1., 0., 0., 0., 0., 0., 0., 0., 0.],\n",
       "       [0., 0., 1., 0., 0., 0., 0., 0., 0., 0.],\n",
       "       [0., 0., 0., 1., 0., 0., 0., 0., 0., 0.],\n",
       "       [0., 0., 0., 0., 1., 0., 0., 0., 0., 0.],\n",
       "       [0., 0., 0., 0., 0., 1., 0., 0., 0., 0.],\n",
       "       [0., 0., 0., 0., 0., 0., 1., 0., 0., 0.],\n",
       "       [0., 0., 0., 0., 0., 0., 0., 1., 0., 0.],\n",
       "       [0., 0., 0., 0., 0., 0., 0., 0., 1., 0.],\n",
       "       [0., 0., 0., 0., 0., 0., 0., 0., 0., 1.]])"
      ]
     },
     "execution_count": 76,
     "metadata": {},
     "output_type": "execute_result"
    }
   ],
   "source": [
    "np.eye(10)"
   ]
  },
  {
   "cell_type": "code",
   "execution_count": 81,
   "id": "1f5a9ee4",
   "metadata": {},
   "outputs": [
    {
     "data": {
      "text/plain": [
       "array([0. , 0.5, 1. , 1.5, 2. , 2.5, 3. , 3.5, 4. , 4.5, 5. , 5.5, 6. ,\n",
       "       6.5, 7. , 7.5, 8. , 8.5, 9. , 9.5])"
      ]
     },
     "execution_count": 81,
     "metadata": {},
     "output_type": "execute_result"
    }
   ],
   "source": [
    "np.arange(0,10,0.5) #дробный шаг!"
   ]
  },
  {
   "cell_type": "code",
   "execution_count": 85,
   "id": "c7b7cb32",
   "metadata": {},
   "outputs": [
    {
     "data": {
      "text/plain": [
       "array([1. , 2.8, 4.6, 6.4, 8.2])"
      ]
     },
     "execution_count": 85,
     "metadata": {},
     "output_type": "execute_result"
    }
   ],
   "source": [
    "np.linspace(1,10,5,endpoint=True)"
   ]
  },
  {
   "cell_type": "markdown",
   "id": "afb761ed",
   "metadata": {},
   "source": [
    "## Оптимизация массивов по памяти"
   ]
  },
  {
   "cell_type": "code",
   "execution_count": 88,
   "id": "373dca77",
   "metadata": {},
   "outputs": [
    {
     "data": {
      "text/plain": [
       "(array([0, 1, 2, 3]), array([0, 1, 2, 3]))"
      ]
     },
     "execution_count": 88,
     "metadata": {},
     "output_type": "execute_result"
    }
   ],
   "source": [
    "arr1 = np.array([0,1,2,3])\n",
    "arr2 = np.array(arr1) # копия данных\n",
    "arr3 = np.asarray(arr1) # те же данные\n",
    "\n",
    "arr2, arr3"
   ]
  },
  {
   "cell_type": "code",
   "execution_count": 89,
   "id": "f72daed3",
   "metadata": {},
   "outputs": [
    {
     "data": {
      "text/plain": [
       "(array([0, 1, 2, 3]), array([ 0,  1, 10,  3]))"
      ]
     },
     "execution_count": 89,
     "metadata": {},
     "output_type": "execute_result"
    }
   ],
   "source": [
    "arr1[2] = 10\n",
    "arr2, arr3"
   ]
  },
  {
   "cell_type": "markdown",
   "id": "20117ce8",
   "metadata": {},
   "source": [
    "## Унарные и бинарные операции"
   ]
  },
  {
   "cell_type": "code",
   "execution_count": 188,
   "id": "5963b81b",
   "metadata": {},
   "outputs": [],
   "source": [
    "arr1 = np.array([0,1,2,3])"
   ]
  },
  {
   "cell_type": "code",
   "execution_count": 189,
   "id": "0281f245",
   "metadata": {},
   "outputs": [
    {
     "data": {
      "text/plain": [
       "array([2, 3, 4, 5])"
      ]
     },
     "execution_count": 189,
     "metadata": {},
     "output_type": "execute_result"
    }
   ],
   "source": [
    "arr1 + 2 # np.add(arr1,2)"
   ]
  },
  {
   "cell_type": "code",
   "execution_count": 190,
   "id": "b3c8d473",
   "metadata": {},
   "outputs": [
    {
     "data": {
      "text/plain": [
       "array([0, 2, 4, 6])"
      ]
     },
     "execution_count": 190,
     "metadata": {},
     "output_type": "execute_result"
    }
   ],
   "source": [
    "arr1 * 2 # np.multiply(arr1,2)"
   ]
  },
  {
   "cell_type": "code",
   "execution_count": 191,
   "id": "c5c3c5e5",
   "metadata": {},
   "outputs": [
    {
     "data": {
      "text/plain": [
       "array([0, 1, 4, 9], dtype=int32)"
      ]
     },
     "execution_count": 191,
     "metadata": {},
     "output_type": "execute_result"
    }
   ],
   "source": [
    "arr1 ** 2 # np.pow(arr1,2)"
   ]
  },
  {
   "cell_type": "code",
   "execution_count": 99,
   "id": "71b1edca",
   "metadata": {},
   "outputs": [
    {
     "data": {
      "text/plain": [
       "array([ 1.        ,  2.71828183,  7.3890561 , 20.08553692])"
      ]
     },
     "execution_count": 99,
     "metadata": {},
     "output_type": "execute_result"
    }
   ],
   "source": [
    "np.exp(arr1)"
   ]
  },
  {
   "cell_type": "code",
   "execution_count": 101,
   "id": "7fbe5367",
   "metadata": {},
   "outputs": [
    {
     "data": {
      "text/plain": [
       "array([0.       , 1.       , 1.5849625, 2.       ])"
      ]
     },
     "execution_count": 101,
     "metadata": {},
     "output_type": "execute_result"
    }
   ],
   "source": [
    "np.log10(arr1+1)"
   ]
  },
  {
   "cell_type": "code",
   "execution_count": 104,
   "id": "77044db8",
   "metadata": {},
   "outputs": [
    {
     "data": {
      "text/plain": [
       "array([2, 3])"
      ]
     },
     "execution_count": 104,
     "metadata": {},
     "output_type": "execute_result"
    }
   ],
   "source": [
    "arr1>1"
   ]
  },
  {
   "cell_type": "markdown",
   "id": "343dd8fd",
   "metadata": {},
   "source": [
    "## Функции над массивами"
   ]
  },
  {
   "cell_type": "code",
   "execution_count": 105,
   "id": "e8c75b75",
   "metadata": {},
   "outputs": [
    {
     "data": {
      "text/plain": [
       "array([0, 1, 2, 3])"
      ]
     },
     "execution_count": 105,
     "metadata": {},
     "output_type": "execute_result"
    }
   ],
   "source": [
    "arr1 = np.array([0,1,2,3])\n",
    "arr1"
   ]
  },
  {
   "cell_type": "code",
   "execution_count": 106,
   "id": "fce8fef5",
   "metadata": {},
   "outputs": [
    {
     "data": {
      "text/plain": [
       "(3, 0, 0, 1.5, 0)"
      ]
     },
     "execution_count": 106,
     "metadata": {},
     "output_type": "execute_result"
    }
   ],
   "source": [
    "arr1.max(), arr1.min(), arr1.argmin(), np.median(arr1), np.prod(arr1) # min(), max(), sum() только для одномерного!"
   ]
  },
  {
   "cell_type": "markdown",
   "id": "3a0c009f",
   "metadata": {},
   "source": [
    "## Представление массивов\n",
    "![jupyter](./МАПЗ/Рисунок2.jpg)\n",
    "\n",
    "Axis0 = |   \n",
    "Axis1 = —  \n",
    "Axis2 = / \n",
    "\n",
    "\n",
    "https://python-scripts.com/numpy"
   ]
  },
  {
   "cell_type": "code",
   "execution_count": 111,
   "id": "f02f2795",
   "metadata": {},
   "outputs": [
    {
     "data": {
      "text/plain": [
       "array([[ 1,  2,  3],\n",
       "       [ 1,  2,  3],\n",
       "       [ 1,  2, 10]])"
      ]
     },
     "execution_count": 111,
     "metadata": {},
     "output_type": "execute_result"
    }
   ],
   "source": [
    "arr1 = np.array([[1,2,3],\n",
    "                   [1,2,3],\n",
    "                   [1,2,10]])\n",
    "arr1"
   ]
  },
  {
   "cell_type": "code",
   "execution_count": 114,
   "id": "0ce24f73",
   "metadata": {},
   "outputs": [
    {
     "data": {
      "text/plain": [
       "array([ 3,  3, 10])"
      ]
     },
     "execution_count": 114,
     "metadata": {},
     "output_type": "execute_result"
    }
   ],
   "source": [
    "arr1.max(axis=1)"
   ]
  },
  {
   "cell_type": "code",
   "execution_count": 115,
   "id": "c971f9a3",
   "metadata": {},
   "outputs": [
    {
     "data": {
      "text/plain": [
       "8"
      ]
     },
     "execution_count": 115,
     "metadata": {},
     "output_type": "execute_result"
    }
   ],
   "source": [
    "arr1.argmax() # индекс 8????"
   ]
  },
  {
   "cell_type": "code",
   "execution_count": 118,
   "id": "2a27e4ef",
   "metadata": {},
   "outputs": [
    {
     "data": {
      "text/plain": [
       "(2, 2)"
      ]
     },
     "execution_count": 118,
     "metadata": {},
     "output_type": "execute_result"
    }
   ],
   "source": [
    "np.unravel_index(arr1.argmax(), arr1.shape)\n"
   ]
  },
  {
   "cell_type": "markdown",
   "id": "cc2be486",
   "metadata": {},
   "source": [
    "## Бинарные операции"
   ]
  },
  {
   "cell_type": "code",
   "execution_count": 192,
   "id": "ea653953",
   "metadata": {},
   "outputs": [
    {
     "name": "stdout",
     "output_type": "stream",
     "text": [
      "[[ 1  2  3]\n",
      " [ 1  2  3]\n",
      " [ 1  2 10]]\n",
      "\n",
      "[[0. 7. 0.]\n",
      " [7. 9. 2.]\n",
      " [5. 6. 9.]]\n"
     ]
    }
   ],
   "source": [
    "arr1 = np.array([[1,2,3],\n",
    "                   [1,2,3],\n",
    "                   [1,2,10]],dtype =int)\n",
    "\n",
    "arr2 = np.random.randint(0,10, size=arr1.shape)\n",
    "arr2 = arr2.astype(float)\n",
    "print(arr1)\n",
    "print()\n",
    "print(arr2)"
   ]
  },
  {
   "cell_type": "code",
   "execution_count": 193,
   "id": "5f5b6d9c",
   "metadata": {},
   "outputs": [
    {
     "data": {
      "text/plain": [
       "array([[ 0., 14.,  0.],\n",
       "       [ 7., 18.,  6.],\n",
       "       [ 5., 12., 90.]])"
      ]
     },
     "execution_count": 193,
     "metadata": {},
     "output_type": "execute_result"
    }
   ],
   "source": [
    "arr1 * arr2"
   ]
  },
  {
   "cell_type": "code",
   "execution_count": 127,
   "id": "2ed97db5",
   "metadata": {},
   "outputs": [
    {
     "data": {
      "text/plain": [
       "array([[ 8., 10., 11.],\n",
       "       [ 6.,  2.,  8.],\n",
       "       [ 6.,  8., 14.]])"
      ]
     },
     "execution_count": 127,
     "metadata": {},
     "output_type": "execute_result"
    }
   ],
   "source": [
    "arr1 + arr2"
   ]
  },
  {
   "cell_type": "code",
   "execution_count": 128,
   "id": "dc1362db",
   "metadata": {},
   "outputs": [
    {
     "data": {
      "text/plain": [
       "array([[ True,  True,  True],\n",
       "       [ True, False,  True],\n",
       "       [ True,  True, False]])"
      ]
     },
     "execution_count": 128,
     "metadata": {},
     "output_type": "execute_result"
    }
   ],
   "source": [
    "arr1 < arr2"
   ]
  },
  {
   "cell_type": "code",
   "execution_count": 129,
   "id": "67c17f32",
   "metadata": {},
   "outputs": [
    {
     "data": {
      "text/plain": [
       "array([[False, False, False],\n",
       "       [False, False, False],\n",
       "       [False, False, False]])"
      ]
     },
     "execution_count": 129,
     "metadata": {},
     "output_type": "execute_result"
    }
   ],
   "source": [
    "np.isclose(arr1,arr2) # позволяет сравнивать int и float (Shift+tab)"
   ]
  },
  {
   "cell_type": "markdown",
   "id": "130e18a0",
   "metadata": {},
   "source": [
    "## Правила бинарных операций над масивами.\n",
    "\n",
    "1) Пусть a.shape = $(a_1,a_2,a_3...a_n)$, а b.shape = $(b_1,b_2,b_3...b_n)$, тогда бинарную операцию можно если верен любой из следующих условий:\n",
    "- $a_i = b_i$\n",
    "- $a_i = 1$\n",
    "- $b_i = 1$\n",
    "\n",
    "2) Если размерность не совпадает, то к массиву меньшего размера добавляется фиктивные оси в начало\n"
   ]
  },
  {
   "cell_type": "code",
   "execution_count": 134,
   "id": "e578a9f5",
   "metadata": {},
   "outputs": [
    {
     "name": "stdout",
     "output_type": "stream",
     "text": [
      "[[ 0  1  2]\n",
      " [ 3  4  5]\n",
      " [ 6  7  8]\n",
      " [ 9 10 11]\n",
      " [12 13 14]]\n",
      "\n",
      "[[0]\n",
      " [1]\n",
      " [2]\n",
      " [3]\n",
      " [4]]\n"
     ]
    }
   ],
   "source": [
    "arr1 = np.arange(15).reshape(5,3)\n",
    "print(arr1)\n",
    "print()\n",
    "arr2 = np.arange(5).reshape(5,1)\n",
    "print(arr2)"
   ]
  },
  {
   "cell_type": "code",
   "execution_count": 135,
   "id": "8ed3fd89",
   "metadata": {},
   "outputs": [
    {
     "data": {
      "text/plain": [
       "array([[ 0,  0,  0],\n",
       "       [ 3,  4,  5],\n",
       "       [12, 14, 16],\n",
       "       [27, 30, 33],\n",
       "       [48, 52, 56]])"
      ]
     },
     "execution_count": 135,
     "metadata": {},
     "output_type": "execute_result"
    }
   ],
   "source": [
    "arr1 * arr2"
   ]
  },
  {
   "cell_type": "code",
   "execution_count": 136,
   "id": "0144ad95",
   "metadata": {},
   "outputs": [
    {
     "data": {
      "text/plain": [
       "array([[0, 0, 0],\n",
       "       [1, 1, 1],\n",
       "       [2, 2, 2],\n",
       "       [3, 3, 3],\n",
       "       [4, 4, 4]])"
      ]
     },
     "execution_count": 136,
     "metadata": {},
     "output_type": "execute_result"
    }
   ],
   "source": [
    "arr2 = np.repeat(arr2, 3, axis=1)\n",
    "arr2"
   ]
  },
  {
   "cell_type": "code",
   "execution_count": 137,
   "id": "24a07e6d",
   "metadata": {},
   "outputs": [
    {
     "data": {
      "text/plain": [
       "array([[ 0,  0,  0],\n",
       "       [ 3,  4,  5],\n",
       "       [12, 14, 16],\n",
       "       [27, 30, 33],\n",
       "       [48, 52, 56]])"
      ]
     },
     "execution_count": 137,
     "metadata": {},
     "output_type": "execute_result"
    }
   ],
   "source": [
    "arr1 * arr2"
   ]
  },
  {
   "cell_type": "markdown",
   "id": "7667fa13",
   "metadata": {},
   "source": [
    "## Матричные операции"
   ]
  },
  {
   "cell_type": "code",
   "execution_count": 138,
   "id": "682b8843",
   "metadata": {
    "scrolled": true
   },
   "outputs": [
    {
     "name": "stdout",
     "output_type": "stream",
     "text": [
      "[[5 6]\n",
      " [7 8]]\n",
      "[[1 2]\n",
      " [2 1]]\n"
     ]
    }
   ],
   "source": [
    "A = np.arange(5,9).reshape(-1,2)\n",
    "B = np.asarray([[1,2],[2,1]])\n",
    "print(A)\n",
    "print(B)"
   ]
  },
  {
   "cell_type": "code",
   "execution_count": 139,
   "id": "dc35cbc4",
   "metadata": {},
   "outputs": [
    {
     "data": {
      "text/plain": [
       "array([[ 5, 12],\n",
       "       [14,  8]])"
      ]
     },
     "execution_count": 139,
     "metadata": {},
     "output_type": "execute_result"
    }
   ],
   "source": [
    "A*B"
   ]
  },
  {
   "cell_type": "code",
   "execution_count": 140,
   "id": "cfc9f0b8",
   "metadata": {},
   "outputs": [
    {
     "data": {
      "text/plain": [
       "array([[17, 16],\n",
       "       [23, 22]])"
      ]
     },
     "execution_count": 140,
     "metadata": {},
     "output_type": "execute_result"
    }
   ],
   "source": [
    "np.matmul(A,B)"
   ]
  },
  {
   "cell_type": "code",
   "execution_count": 141,
   "id": "bb410231",
   "metadata": {},
   "outputs": [
    {
     "data": {
      "text/plain": [
       "matrix([[5, 6],\n",
       "        [7, 8]])"
      ]
     },
     "execution_count": 141,
     "metadata": {},
     "output_type": "execute_result"
    }
   ],
   "source": [
    "np.asmatrix(A)\n",
    "\n",
    "# https://docs.scipy.org/doc/scipy/reference/linalg.html <— Решение матричных задач"
   ]
  },
  {
   "cell_type": "markdown",
   "id": "b16cdaaf",
   "metadata": {},
   "source": [
    "## Индексация"
   ]
  },
  {
   "cell_type": "code",
   "execution_count": 142,
   "id": "2946ae5e",
   "metadata": {},
   "outputs": [
    {
     "data": {
      "text/plain": [
       "array([0, 1, 2, 3, 4, 5, 6, 7, 8, 9])"
      ]
     },
     "execution_count": 142,
     "metadata": {},
     "output_type": "execute_result"
    }
   ],
   "source": [
    "arr = np.arange(10)\n",
    "arr"
   ]
  },
  {
   "cell_type": "code",
   "execution_count": 143,
   "id": "db6f255b",
   "metadata": {},
   "outputs": [
    {
     "data": {
      "text/plain": [
       "array([1, 2, 3, 4])"
      ]
     },
     "execution_count": 143,
     "metadata": {},
     "output_type": "execute_result"
    }
   ],
   "source": [
    "arr[1:5:]"
   ]
  },
  {
   "cell_type": "code",
   "execution_count": 144,
   "id": "45738b77",
   "metadata": {},
   "outputs": [
    {
     "data": {
      "text/plain": [
       "array([9, 8, 7, 6, 5, 4, 3, 2, 1, 0])"
      ]
     },
     "execution_count": 144,
     "metadata": {},
     "output_type": "execute_result"
    }
   ],
   "source": [
    "arr[::-1]"
   ]
  },
  {
   "cell_type": "code",
   "execution_count": 151,
   "id": "2357f6b0",
   "metadata": {},
   "outputs": [
    {
     "data": {
      "text/plain": [
       "array([9, 8, 7, 6, 5, 4, 3, 2, 1, 0])"
      ]
     },
     "execution_count": 151,
     "metadata": {},
     "output_type": "execute_result"
    }
   ],
   "source": [
    "arr[::-1]"
   ]
  },
  {
   "cell_type": "markdown",
   "id": "83966a97",
   "metadata": {},
   "source": [
    "## Маски"
   ]
  },
  {
   "cell_type": "code",
   "execution_count": 152,
   "id": "415af34a",
   "metadata": {},
   "outputs": [
    {
     "data": {
      "text/plain": [
       "array([45,  7, 60, 13, 49, 87, 68, 30, 91, 30, 65, 71, 53, 85, 22, 74, 34,\n",
       "       91, 79, 60])"
      ]
     },
     "execution_count": 152,
     "metadata": {},
     "output_type": "execute_result"
    }
   ],
   "source": [
    "arr = np.random.randint(1,100,20)\n",
    "arr"
   ]
  },
  {
   "cell_type": "code",
   "execution_count": 153,
   "id": "292ee70c",
   "metadata": {},
   "outputs": [
    {
     "data": {
      "text/plain": [
       "array([False,  True, False,  True, False, False, False, False, False,\n",
       "       False, False, False, False, False, False, False, False, False,\n",
       "       False, False])"
      ]
     },
     "execution_count": 153,
     "metadata": {},
     "output_type": "execute_result"
    }
   ],
   "source": [
    "arr<20"
   ]
  },
  {
   "cell_type": "code",
   "execution_count": 154,
   "id": "ad71738b",
   "metadata": {},
   "outputs": [
    {
     "data": {
      "text/plain": [
       "array([ 7, 13])"
      ]
     },
     "execution_count": 154,
     "metadata": {},
     "output_type": "execute_result"
    }
   ],
   "source": [
    "arr[arr<20]"
   ]
  },
  {
   "cell_type": "markdown",
   "id": "acaba570",
   "metadata": {},
   "source": [
    "## Индексация многомерные массивы"
   ]
  },
  {
   "cell_type": "code",
   "execution_count": 155,
   "id": "8dcf52b4",
   "metadata": {},
   "outputs": [
    {
     "data": {
      "text/plain": [
       "array([[16,  7, 16,  2,  4],\n",
       "       [13, 13,  4, 14, 14],\n",
       "       [17,  8, 16,  4, 13],\n",
       "       [12,  5, 14, 15, 16],\n",
       "       [ 7, 12, 15,  3, 12]])"
      ]
     },
     "execution_count": 155,
     "metadata": {},
     "output_type": "execute_result"
    }
   ],
   "source": [
    "arr = np.random.randint(1,20,[5,5])\n",
    "arr"
   ]
  },
  {
   "cell_type": "code",
   "execution_count": 156,
   "id": "62490e9a",
   "metadata": {},
   "outputs": [
    {
     "name": "stdout",
     "output_type": "stream",
     "text": [
      "106 ns ± 2.38 ns per loop (mean ± std. dev. of 7 runs, 10000000 loops each)\n"
     ]
    }
   ],
   "source": [
    "%%timeit\n",
    "arr[0][0] # плохо"
   ]
  },
  {
   "cell_type": "code",
   "execution_count": 157,
   "id": "4fb40c3c",
   "metadata": {},
   "outputs": [
    {
     "name": "stdout",
     "output_type": "stream",
     "text": [
      "52.9 ns ± 1.78 ns per loop (mean ± std. dev. of 7 runs, 10000000 loops each)\n"
     ]
    }
   ],
   "source": [
    "%%timeit\n",
    "arr[0,0]  # хорошо"
   ]
  },
  {
   "cell_type": "code",
   "execution_count": 158,
   "id": "0e3d6b6c",
   "metadata": {},
   "outputs": [
    {
     "name": "stdout",
     "output_type": "stream",
     "text": [
      "[17  8 16  4 13]\n",
      "[17  8 16  4 13]\n"
     ]
    }
   ],
   "source": [
    "#вывод строки\n",
    "print(arr[2])\n",
    "print(arr[2,::])"
   ]
  },
  {
   "cell_type": "code",
   "execution_count": 161,
   "id": "8b386e06",
   "metadata": {},
   "outputs": [
    {
     "name": "stdout",
     "output_type": "stream",
     "text": [
      "[16  4 16 14 15]\n"
     ]
    }
   ],
   "source": [
    "#вывод столбца\n",
    "print(arr[:,2])"
   ]
  },
  {
   "cell_type": "code",
   "execution_count": 164,
   "id": "64b47ce6",
   "metadata": {},
   "outputs": [
    {
     "name": "stdout",
     "output_type": "stream",
     "text": [
      "[[16  7 16  2  4]\n",
      " [13 13  4 14 14]\n",
      " [17  8 16  4 13]\n",
      " [12  5 14 15 16]\n",
      " [ 7 12 15  3 12]]\n"
     ]
    },
    {
     "data": {
      "text/plain": [
       "(array([0, 0, 0, 0, 0, 1, 1, 1, 1, 1, 2, 2, 2, 2, 2, 3, 3, 3, 3, 3, 4, 4,\n",
       "        4, 4, 4], dtype=int64),\n",
       " array([0, 1, 2, 3, 4, 0, 1, 2, 3, 4, 0, 1, 2, 3, 4, 0, 1, 2, 3, 4, 0, 1,\n",
       "        2, 3, 4], dtype=int64))"
      ]
     },
     "execution_count": 164,
     "metadata": {},
     "output_type": "execute_result"
    }
   ],
   "source": [
    "print(arr)\n",
    "np.where(arr<20) # индекс строк / индекс столбцов"
   ]
  },
  {
   "cell_type": "code",
   "execution_count": 167,
   "id": "1cd3125c",
   "metadata": {},
   "outputs": [
    {
     "data": {
      "text/plain": [
       "array([[13, 13,  4, 14, 14],\n",
       "       [17,  8, 16,  4, 13],\n",
       "       [12,  5, 14, 15, 16]])"
      ]
     },
     "execution_count": 167,
     "metadata": {},
     "output_type": "execute_result"
    }
   ],
   "source": [
    "arr[[1,2,3]] #получить "
   ]
  },
  {
   "cell_type": "markdown",
   "id": "7dfde17f",
   "metadata": {},
   "source": [
    "## Объединение массивов, сортировка, полезные фишки"
   ]
  },
  {
   "cell_type": "code",
   "execution_count": 170,
   "id": "0b81bfe5",
   "metadata": {},
   "outputs": [
    {
     "name": "stdout",
     "output_type": "stream",
     "text": [
      "[[11 12 14  3 11]\n",
      " [ 9 17  9 15  1]\n",
      " [ 3  8 18 13  9]\n",
      " [ 4  1 18  6  6]\n",
      " [12  4 15  5 11]]\n",
      "\n",
      "[[ 3 19 11 10  4]\n",
      " [13 11 11 10 15]\n",
      " [14  6 16 13 18]\n",
      " [ 8  6  1  8 11]\n",
      " [ 2  3  5  2 14]]\n"
     ]
    }
   ],
   "source": [
    "arr1 = np.random.randint(1,20,(5,5))\n",
    "arr2 = np.random.randint(1,20,(5,5))\n",
    "print(arr1)\n",
    "print()\n",
    "print(arr2)"
   ]
  },
  {
   "cell_type": "code",
   "execution_count": 173,
   "id": "028594fd",
   "metadata": {},
   "outputs": [
    {
     "data": {
      "text/plain": [
       "array([[11, 12, 14,  3, 11,  3, 19, 11, 10,  4],\n",
       "       [ 9, 17,  9, 15,  1, 13, 11, 11, 10, 15],\n",
       "       [ 3,  8, 18, 13,  9, 14,  6, 16, 13, 18],\n",
       "       [ 4,  1, 18,  6,  6,  8,  6,  1,  8, 11],\n",
       "       [12,  4, 15,  5, 11,  2,  3,  5,  2, 14]])"
      ]
     },
     "execution_count": 173,
     "metadata": {},
     "output_type": "execute_result"
    }
   ],
   "source": [
    "np.concatenate((arr1,arr2),axis=1)"
   ]
  },
  {
   "cell_type": "code",
   "execution_count": 174,
   "id": "f4145ae1",
   "metadata": {},
   "outputs": [
    {
     "data": {
      "text/plain": [
       "array([[11, 12, 14,  3, 11],\n",
       "       [ 9, 17,  9, 15,  1],\n",
       "       [ 3,  8, 18, 13,  9],\n",
       "       [ 4,  1, 18,  6,  6],\n",
       "       [12,  4, 15,  5, 11],\n",
       "       [ 3, 19, 11, 10,  4],\n",
       "       [13, 11, 11, 10, 15],\n",
       "       [14,  6, 16, 13, 18],\n",
       "       [ 8,  6,  1,  8, 11],\n",
       "       [ 2,  3,  5,  2, 14]])"
      ]
     },
     "execution_count": 174,
     "metadata": {},
     "output_type": "execute_result"
    }
   ],
   "source": [
    "np.concatenate((arr1,arr2),axis=0)"
   ]
  },
  {
   "cell_type": "code",
   "execution_count": 176,
   "id": "34ee4b97",
   "metadata": {},
   "outputs": [
    {
     "data": {
      "text/plain": [
       "array([[11, 12, 14,  3, 11],\n",
       "       [ 9, 17,  9, 15,  1],\n",
       "       [ 3,  8, 18, 13,  9],\n",
       "       [ 4,  1, 18,  6,  6],\n",
       "       [12,  4, 15,  5, 11]])"
      ]
     },
     "execution_count": 176,
     "metadata": {},
     "output_type": "execute_result"
    }
   ],
   "source": [
    "arr1"
   ]
  },
  {
   "cell_type": "code",
   "execution_count": 186,
   "id": "c4466efe",
   "metadata": {},
   "outputs": [
    {
     "data": {
      "text/plain": [
       "array([[ 3,  1,  9,  3,  1],\n",
       "       [ 4,  4, 14,  5,  6],\n",
       "       [ 9,  8, 15,  6,  9],\n",
       "       [11, 12, 18, 13, 11],\n",
       "       [12, 17, 18, 15, 11]])"
      ]
     },
     "execution_count": 186,
     "metadata": {},
     "output_type": "execute_result"
    }
   ],
   "source": [
    "np.sort(arr1, axis=0) #копия объекта\n"
   ]
  },
  {
   "cell_type": "code",
   "execution_count": 187,
   "id": "fa953055",
   "metadata": {},
   "outputs": [],
   "source": [
    "arr1.sort(axis=0) # inplace сортировка"
   ]
  },
  {
   "cell_type": "code",
   "execution_count": 185,
   "id": "757f9138",
   "metadata": {},
   "outputs": [
    {
     "data": {
      "text/plain": [
       "array([ 1,  3,  4,  5,  6,  8,  9, 11, 12, 13, 14, 15, 17, 18])"
      ]
     },
     "execution_count": 185,
     "metadata": {},
     "output_type": "execute_result"
    }
   ],
   "source": [
    "np.unique(arr1) # уникальные элементы"
   ]
  },
  {
   "cell_type": "code",
   "execution_count": 194,
   "id": "54b68691",
   "metadata": {},
   "outputs": [
    {
     "data": {
      "text/plain": [
       "nan"
      ]
     },
     "execution_count": 194,
     "metadata": {},
     "output_type": "execute_result"
    }
   ],
   "source": [
    "np.nan"
   ]
  },
  {
   "cell_type": "code",
   "execution_count": null,
   "id": "b9b6969b",
   "metadata": {},
   "outputs": [],
   "source": []
  }
 ],
 "metadata": {
  "kernelspec": {
   "display_name": "Python 3 (ipykernel)",
   "language": "python",
   "name": "python3"
  },
  "language_info": {
   "codemirror_mode": {
    "name": "ipython",
    "version": 3
   },
   "file_extension": ".py",
   "mimetype": "text/x-python",
   "name": "python",
   "nbconvert_exporter": "python",
   "pygments_lexer": "ipython3",
   "version": "3.9.5"
  }
 },
 "nbformat": 4,
 "nbformat_minor": 5
}
