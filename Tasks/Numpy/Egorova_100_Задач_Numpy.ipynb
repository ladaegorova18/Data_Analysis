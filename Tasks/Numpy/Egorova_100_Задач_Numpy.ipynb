{
 "cells": [
  {
   "cell_type": "markdown",
   "id": "96443564",
   "metadata": {},
   "source": [
    "#### 1.Загрузите numpy пакет под именем `np` (★☆☆)"
   ]
  },
  {
   "cell_type": "code",
   "execution_count": 1,
   "id": "ffe1047e",
   "metadata": {},
   "outputs": [],
   "source": [
    "import numpy as np"
   ]
  },
  {
   "cell_type": "markdown",
   "id": "c807bf1d",
   "metadata": {},
   "source": [
    "#### 2. Выведите на печать версию numpy(★☆☆)"
   ]
  },
  {
   "cell_type": "code",
   "execution_count": 2,
   "id": "f396b717",
   "metadata": {},
   "outputs": [
    {
     "name": "stdout",
     "output_type": "stream",
     "text": [
      "1.22.2\n"
     ]
    }
   ],
   "source": [
    "print(np.__version__)"
   ]
  },
  {
   "cell_type": "markdown",
   "id": "572c1bdb",
   "metadata": {},
   "source": [
    "#### 3. Создайте вектор из 10 нулей (★☆☆)"
   ]
  },
  {
   "cell_type": "code",
   "execution_count": 3,
   "id": "31c9f6a5",
   "metadata": {},
   "outputs": [
    {
     "data": {
      "text/plain": [
       "array([0., 0., 0., 0., 0., 0., 0., 0., 0., 0.])"
      ]
     },
     "execution_count": 3,
     "metadata": {},
     "output_type": "execute_result"
    }
   ],
   "source": [
    "np.zeros(10)"
   ]
  },
  {
   "cell_type": "markdown",
   "id": "337e6e36",
   "metadata": {},
   "source": [
    "#### 4. Как найти размер (в байтах) всего массива  (★☆☆)"
   ]
  },
  {
   "cell_type": "code",
   "execution_count": 173,
   "id": "31e8ec2e",
   "metadata": {},
   "outputs": [
    {
     "data": {
      "text/plain": [
       "80"
      ]
     },
     "execution_count": 173,
     "metadata": {},
     "output_type": "execute_result"
    }
   ],
   "source": [
    "arr = np.zeros(10)\n",
    "arr.nbytes"
   ]
  },
  {
   "cell_type": "markdown",
   "id": "166079c8",
   "metadata": {},
   "source": [
    "#### 5. Как получить подсказку по функции numpy? (★☆☆)"
   ]
  },
  {
   "cell_type": "code",
   "execution_count": null,
   "id": "593cd80f",
   "metadata": {},
   "outputs": [],
   "source": [
    "(Shift + Tab)"
   ]
  },
  {
   "cell_type": "markdown",
   "id": "3add7101",
   "metadata": {},
   "source": [
    "#### 6. Создайте нулевой вектор размера 10, где пятое значение будет равно 1(★☆☆)"
   ]
  },
  {
   "cell_type": "code",
   "execution_count": 8,
   "id": "2edf3c42",
   "metadata": {},
   "outputs": [
    {
     "name": "stdout",
     "output_type": "stream",
     "text": [
      "[0. 0. 0. 0. 1. 0. 0. 0. 0. 0.]\n"
     ]
    }
   ],
   "source": [
    "arr = np.zeros(10)\n",
    "arr[4] = 1\n",
    "print(arr)"
   ]
  },
  {
   "cell_type": "markdown",
   "id": "cfc46304",
   "metadata": {},
   "source": [
    "#### 7. Создайте вектор размера 10 и заполните случайными значениями от 10 до 49 (★☆☆)"
   ]
  },
  {
   "cell_type": "code",
   "execution_count": 9,
   "id": "d8b86640",
   "metadata": {},
   "outputs": [
    {
     "name": "stdout",
     "output_type": "stream",
     "text": [
      "[12 20 38 25 19 42 35 48 35 19]\n"
     ]
    }
   ],
   "source": [
    "arr = np.random.randint(10,49, 10)\n",
    "print(arr)"
   ]
  },
  {
   "cell_type": "markdown",
   "id": "0cc200be",
   "metadata": {},
   "source": [
    "#### 8. Сделайте отражение вектора (первый элемент — последний, а последний — первый) (★☆☆)"
   ]
  },
  {
   "cell_type": "code",
   "execution_count": 12,
   "id": "ec044bb5",
   "metadata": {},
   "outputs": [
    {
     "data": {
      "text/plain": [
       "array([19, 35, 48, 35, 42, 19, 25, 38, 20, 12])"
      ]
     },
     "execution_count": 12,
     "metadata": {},
     "output_type": "execute_result"
    }
   ],
   "source": [
    "arr[::-1]"
   ]
  },
  {
   "cell_type": "markdown",
   "id": "29d9ede4",
   "metadata": {},
   "source": [
    "#### 9. Создайте 3x3 матрицу со значениями от 0 до 8 (по очереди) (★☆☆)"
   ]
  },
  {
   "cell_type": "code",
   "execution_count": 15,
   "id": "d9e39043",
   "metadata": {},
   "outputs": [
    {
     "data": {
      "text/plain": [
       "array([[0, 1, 2],\n",
       "       [3, 4, 5],\n",
       "       [6, 7, 8]])"
      ]
     },
     "execution_count": 15,
     "metadata": {},
     "output_type": "execute_result"
    }
   ],
   "source": [
    "np.arange(9).reshape(3,3)"
   ]
  },
  {
   "cell_type": "markdown",
   "id": "88905ceb",
   "metadata": {},
   "source": [
    "#### 10. Найдите все индексы ненулевых элементов в массиве [1,2,0,0,4,0] (★☆☆)"
   ]
  },
  {
   "cell_type": "code",
   "execution_count": 141,
   "id": "b2f3c90a",
   "metadata": {},
   "outputs": [
    {
     "data": {
      "text/plain": [
       "array([0, 1, 4], dtype=int64)"
      ]
     },
     "execution_count": 141,
     "metadata": {},
     "output_type": "execute_result"
    }
   ],
   "source": [
    "arr = np.array([1,2,0,0,4,0])\n",
    "\n",
    "np.where(arr != 0)[0] # или\n",
    "np.nonzero(arr)"
   ]
  },
  {
   "cell_type": "markdown",
   "id": "49603e91",
   "metadata": {},
   "source": [
    "#### 11. Создайте единичную матрицу размера 3х3 (★☆☆)"
   ]
  },
  {
   "cell_type": "code",
   "execution_count": 17,
   "id": "5b607b5c",
   "metadata": {},
   "outputs": [
    {
     "data": {
      "text/plain": [
       "array([[1., 0., 0.],\n",
       "       [0., 1., 0.],\n",
       "       [0., 0., 1.]])"
      ]
     },
     "execution_count": 17,
     "metadata": {},
     "output_type": "execute_result"
    }
   ],
   "source": [
    "np.eye(3)"
   ]
  },
  {
   "cell_type": "markdown",
   "id": "e15c249a",
   "metadata": {},
   "source": [
    "#### 12. Создайте массив 3x3x3 со случайными значениями (★☆☆)"
   ]
  },
  {
   "cell_type": "code",
   "execution_count": 20,
   "id": "ab21ed50",
   "metadata": {},
   "outputs": [
    {
     "data": {
      "text/plain": [
       "array([[[67,  4, 50],\n",
       "        [95, 19, 53],\n",
       "        [34, 44, 62]],\n",
       "\n",
       "       [[33, 99, 83],\n",
       "        [56, 77, 21],\n",
       "        [83, 78, 67]],\n",
       "\n",
       "       [[17,  2, 92],\n",
       "        [47, 13, 62],\n",
       "        [33, 63, 29]]])"
      ]
     },
     "execution_count": 20,
     "metadata": {},
     "output_type": "execute_result"
    }
   ],
   "source": [
    "np.random.randint(100, size=(3,3,3))"
   ]
  },
  {
   "cell_type": "markdown",
   "id": "157a129c",
   "metadata": {},
   "source": [
    "#### 13. Создайте массив размера 10x10 со случайными значениями и найдите минимальные и максимальные значения (по всему массиву) (★☆☆)"
   ]
  },
  {
   "cell_type": "code",
   "execution_count": 31,
   "id": "c0066de5",
   "metadata": {},
   "outputs": [
    {
     "name": "stdout",
     "output_type": "stream",
     "text": [
      "[[ 8 39 92  0 41 39 92 22 67 15]\n",
      " [53 21 70  1 55 99 92 56 70 59]\n",
      " [39 10 53 13 12 38 71 84 82 67]\n",
      " [ 1 89 33  2 60 65 95 56 56 33]\n",
      " [54  1 92 45 24 58 39 10 54  3]\n",
      " [61 74 53 88 74 46 93 85 14 11]\n",
      " [ 4 55 88 92 22 49 21 55 53 47]\n",
      " [74 42 43 14 70 73 31 24 76 90]\n",
      " [94 23 73  3 38 16 70 22  3 27]\n",
      " [86 11 63 64  0 56 94 53 92 40]]\n",
      "99\n",
      "0\n"
     ]
    }
   ],
   "source": [
    "arr = np.random.randint(100, size=(10,10))\n",
    "print(arr)\n",
    "\n",
    "print(arr[np.unravel_index(arr.argmax(), arr.shape)])\n",
    "print(arr[np.unravel_index(arr.argmin(), arr.shape)])"
   ]
  },
  {
   "cell_type": "markdown",
   "id": "d92d7b32",
   "metadata": {},
   "source": [
    "#### 14. Создайте случайный вектор размера 30 и найдите среднее значение (★☆☆)"
   ]
  },
  {
   "cell_type": "code",
   "execution_count": 41,
   "id": "9672d023",
   "metadata": {},
   "outputs": [
    {
     "name": "stdout",
     "output_type": "stream",
     "text": [
      "[50 53 60 89 15  3 64 73 22 64 94 76 83 48  2 69 43 24 70 57 38 83 60 71\n",
      " 65 69 20 42 67 54]\n",
      "54.266666666666666\n"
     ]
    }
   ],
   "source": [
    "arr = np.random.randint(100, size=(30))\n",
    "print(arr)\n",
    "print(np.average(arr))"
   ]
  },
  {
   "cell_type": "markdown",
   "id": "6a235316",
   "metadata": {},
   "source": [
    "#### 15. создайте матрицу 5x5 со значениями 0,1,2,3,4 на диагонале (★☆☆)"
   ]
  },
  {
   "cell_type": "code",
   "execution_count": 47,
   "id": "f2e6cfa6",
   "metadata": {},
   "outputs": [
    {
     "data": {
      "text/plain": [
       "array([[0, 0, 0, 0, 0],\n",
       "       [0, 1, 0, 0, 0],\n",
       "       [0, 0, 2, 0, 0],\n",
       "       [0, 0, 0, 3, 0],\n",
       "       [0, 0, 0, 0, 4]])"
      ]
     },
     "execution_count": 47,
     "metadata": {},
     "output_type": "execute_result"
    }
   ],
   "source": [
    "np.diag(np.arange(5))"
   ]
  },
  {
   "cell_type": "markdown",
   "id": "52667b6e",
   "metadata": {},
   "source": [
    "#### 16. Как посчитать ((A+B)*(-A/2)) без копирования? (операции обычные) (★★☆)"
   ]
  },
  {
   "cell_type": "code",
   "execution_count": 144,
   "id": "e6e7c030",
   "metadata": {},
   "outputs": [
    {
     "name": "stdout",
     "output_type": "stream",
     "text": [
      "[[5 2]\n",
      " [6 3]]\n",
      "[[5 4]\n",
      " [2 0]]\n"
     ]
    },
    {
     "data": {
      "text/plain": [
       "array([[-25. ,  -6. ],\n",
       "       [-24. ,  -4.5]])"
      ]
     },
     "execution_count": 144,
     "metadata": {},
     "output_type": "execute_result"
    }
   ],
   "source": [
    "A = np.random.randint(10, size=(2,2))\n",
    "B = np.random.randint(10, size=(2,2))\n",
    "print(A)\n",
    "print(B)\n",
    "(A+B) * (-A / 2)"
   ]
  },
  {
   "cell_type": "markdown",
   "id": "c4c942d1",
   "metadata": {},
   "source": [
    "#### 17. Создайте вектор размера 10 в равном промежутке от 0 до 1 (включая границы)  (★★☆)"
   ]
  },
  {
   "cell_type": "code",
   "execution_count": 49,
   "id": "e42eaa4b",
   "metadata": {},
   "outputs": [
    {
     "data": {
      "text/plain": [
       "array([0.        , 0.11111111, 0.22222222, 0.33333333, 0.44444444,\n",
       "       0.55555556, 0.66666667, 0.77777778, 0.88888889, 1.        ])"
      ]
     },
     "execution_count": 49,
     "metadata": {},
     "output_type": "execute_result"
    }
   ],
   "source": [
    "np.linspace(0, 1, 10) # endpoint=True по умолчанию"
   ]
  },
  {
   "cell_type": "markdown",
   "id": "9b3cb8d2",
   "metadata": {},
   "source": [
    "#### 18. Создайте случайный вектор размера 10 и отсортируйте его (★★☆)"
   ]
  },
  {
   "cell_type": "code",
   "execution_count": 52,
   "id": "37d2b341",
   "metadata": {},
   "outputs": [
    {
     "name": "stdout",
     "output_type": "stream",
     "text": [
      "[25 23  5 10  1 20  8 10  7 13]\n",
      "[ 1  5  7  8 10 10 13 20 23 25]\n"
     ]
    }
   ],
   "source": [
    "arr = np.random.randint(30, size=10)\n",
    "print(arr)\n",
    "print(np.sort(arr))"
   ]
  },
  {
   "cell_type": "markdown",
   "id": "539cd2a5",
   "metadata": {},
   "source": [
    "#### 19. Создайте два случайных массива и проверьте являются ли они одного размера (★★☆)"
   ]
  },
  {
   "cell_type": "code",
   "execution_count": 134,
   "id": "49b310fb",
   "metadata": {},
   "outputs": [
    {
     "name": "stdout",
     "output_type": "stream",
     "text": [
      "[[29  6 13 28 19]\n",
      " [21  5 11  8 13]\n",
      " [ 5 29 29 21 10]\n",
      " [11 15 15 17  6]\n",
      " [ 5 14 16 14 16]]\n",
      "[[20 10  0 10]\n",
      " [20 28 10 21]\n",
      " [ 5  5 23 23]\n",
      " [ 0 20 20  9]\n",
      " [23 15 18 26]]\n",
      "False\n"
     ]
    }
   ],
   "source": [
    "arr1 = np.random.randint(30, size = (5,5))\n",
    "arr2 = np.random.randint(30, size = (5,4))\n",
    "print(arr1)\n",
    "print(arr2)\n",
    "print(arr1.shape == arr2.shape)"
   ]
  },
  {
   "cell_type": "markdown",
   "id": "a556027a",
   "metadata": {},
   "source": [
    "#### 20. Создайте случайную матрицу 10х10 и замените в ней все максимальные элементы на 100, а минимальные на 0 (по двум осям отдельно) (★★☆)"
   ]
  },
  {
   "cell_type": "code",
   "execution_count": 170,
   "id": "9e07cb87",
   "metadata": {},
   "outputs": [
    {
     "name": "stdout",
     "output_type": "stream",
     "text": [
      "[[28 16 15 26 14 13  7 21  8  0]\n",
      " [ 4 25  5 25 27 19 16 27 13 19]\n",
      " [ 4 20  1 17 26 15  7 24 14 21]\n",
      " [29  6 23  6 21  1  7 19 16 12]\n",
      " [26  2  0  1 18 13  8  7 12 13]\n",
      " [10  4  9 10 13 22 18 16 28  0]\n",
      " [ 1  5 17 15 11 25  0 15  3 11]\n",
      " [23 22 12 17 22 28  1 12 29 19]\n",
      " [17 23 10  0 19  3 21 21  8 18]\n",
      " [26 25 15  4 21  6 13 11 21 29]]\n",
      "[[0 1 2 3 4 5 6 7 8 9]\n",
      " [0 4 4 0 0 8 5 8 1 9]]\n",
      "[[0 1 2 3 4 5 6 7 8 9]\n",
      " [0 8 3 0 1 6 8 1 5 9]]\n",
      "[[100   0  15  26  14  13   7  21   8   0]\n",
      " [  0  25   5  25   0  19  16  27 100  19]\n",
      " [  4  20   0 100 100  15   7  24  14  21]\n",
      " [100   6  23   6  21   0   7  19   0  12]\n",
      " [100 100   0   1  18  13   0   7  12  13]\n",
      " [ 10   4   9   0  13  22 100  16 100   0]\n",
      " [  1   5  17  15  11 100   0  15 100  11]\n",
      " [ 23 100  12  17   0  28   0  12 100  19]\n",
      " [ 17 100  10   0  19 100   0  21   8  18]\n",
      " [  0  25  15   0  21   6  13  11  21 100]]\n"
     ]
    }
   ],
   "source": [
    "arr1 = np.random.randint(30, size = (10,10))\n",
    "print(arr1)\n",
    "\n",
    "def changeElem(numAxis, arr1):\n",
    "    max_ind = np.argmax(arr1, axis=numAxis)\n",
    "    min_ind = np.argmin(arr1, axis=numAxis) # находим индексы максимальных и минимальных\n",
    "\n",
    "    row_ind = np.arange(arr1.shape[0])\n",
    "    multiMax_ind = np.array([row_ind, max_ind]) \n",
    "    multiMin_ind = np.array([row_ind, min_ind])\n",
    "\n",
    "    linearMax_ind = np.ravel_multi_index(multiMax_ind, arr1.shape)\n",
    "    linearMin_ind = np.ravel_multi_index(multiMin_ind, arr1.shape)\n",
    "\n",
    "    arr1.reshape((-1))[linearMax_ind] = 100\n",
    "    arr1.reshape((-1))[linearMin_ind] = 0\n",
    "    return arr1\n",
    "\n",
    "changeElem(1, arr1)\n",
    "changeElem(0, arr1)\n",
    "\n",
    "print(arr1)"
   ]
  },
  {
   "cell_type": "markdown",
   "id": "c5611b9e",
   "metadata": {},
   "source": [
    "#### 21. Создайте массив, который будет представлять позицию (x,y) и цвет (r,g,b) пикселя изображения (★★☆) A[x,y]= (r,g,b)"
   ]
  },
  {
   "cell_type": "code",
   "execution_count": 171,
   "id": "f622939d",
   "metadata": {},
   "outputs": [
    {
     "name": "stdout",
     "output_type": "stream",
     "text": [
      "[[[ 46 189 167]\n",
      "  [ 42 233  44]\n",
      "  [152 248 192]\n",
      "  [ 81  99  84]\n",
      "  [133 253 156]]\n",
      "\n",
      " [[108  84 167]\n",
      "  [ 11 110 187]\n",
      "  [225 186  70]\n",
      "  [112  13  14]\n",
      "  [246  23  96]]\n",
      "\n",
      " [[221 124 237]\n",
      "  [202  13 213]\n",
      "  [ 53  55   4]\n",
      "  [243  57 146]\n",
      "  [126 122   3]]\n",
      "\n",
      " [[190 103 228]\n",
      "  [211 115 212]\n",
      "  [ 72  31  23]\n",
      "  [  3  40 190]\n",
      "  [230 119  14]]\n",
      "\n",
      " [[ 22  40  53]\n",
      "  [125 233 236]\n",
      "  [ 99  11 126]\n",
      "  [ 51 155 173]\n",
      "  [ 94  71 153]]]\n",
      "[243  57 146]\n"
     ]
    }
   ],
   "source": [
    "picture = np.array(np.random.randint(0,255, (5,5,3)))\n",
    "print(picture)\n",
    "print(picture[2,3])"
   ]
  },
  {
   "cell_type": "markdown",
   "id": "a8b7e6f5",
   "metadata": {},
   "source": [
    "#### 22. Прочитайте следующий файл в numpy.ndarray? (★★☆)\n",
    "```\n",
    "1, 2, 3, 4, 5\n",
    "6,  ,  , 7, 8\n",
    " ,  , 9,10,11\n",
    "```"
   ]
  },
  {
   "cell_type": "code",
   "execution_count": 133,
   "id": "bde0538a",
   "metadata": {},
   "outputs": [
    {
     "name": "stdout",
     "output_type": "stream",
     "text": [
      "[[ 1.  2.  3.  4.  5.]\n",
      " [ 6. nan nan  7.  8.]\n",
      " [nan nan  9. 10. 11.]]\n"
     ]
    }
   ],
   "source": [
    "arr = np.genfromtxt(\"matrix.txt\", delimiter=\",\")\n",
    "print(arr)"
   ]
  },
  {
   "cell_type": "markdown",
   "id": "f30162d2",
   "metadata": {},
   "source": [
    "#### 23. У случайного вектора размера 100 увеличьте каждый второй элемент на 1? (★★★)"
   ]
  },
  {
   "cell_type": "code",
   "execution_count": 129,
   "id": "269cdaea",
   "metadata": {},
   "outputs": [
    {
     "name": "stdout",
     "output_type": "stream",
     "text": [
      "[22 21  7  0 19  1  6  5 24 20  2  1  9 12 17  5 22 24 12  2 11 26 15  7\n",
      " 24 24 18 20  7 10 25 25 12  1 17  4 14 18 22 12 21  3 24  3  6  4  0 28\n",
      " 10 21 15  8 12  4  8 28 10  9  2 26 23 29 22 29 26  9 14 11 17  0 13 16\n",
      " 21  2 20 18 15  7 22 17  4 25 25  3 11 12 21 11 28 14  5 15 29 22 28  7\n",
      "  5 19 12 28]\n",
      "[23 21  8  0 20  1  7  5 25 20  3  1 10 12 18  5 23 24 13  2 12 26 16  7\n",
      " 25 24 19 20  8 10 26 25 13  1 18  4 15 18 23 12 22  3 25  3  7  4  1 28\n",
      " 11 21 16  8 13  4  9 28 11  9  3 26 24 29 23 29 27  9 15 11 18  0 14 16\n",
      " 22  2 21 18 16  7 23 17  5 25 26  3 12 12 22 11 29 14  6 15 30 22 29  7\n",
      "  6 19 13 28]\n"
     ]
    }
   ],
   "source": [
    "arr = np.random.randint(30, size = 100)\n",
    "print(arr)\n",
    "arr[::2] = arr[::2] + 1\n",
    "print(arr)"
   ]
  },
  {
   "cell_type": "markdown",
   "id": "4bddeb31",
   "metadata": {},
   "source": [
    "#### 24. Для случайного 4х мерного массива размера 100х100х100х100 получите сумму элементов (попарную для двух последних осей)? (★★★)"
   ]
  },
  {
   "cell_type": "code",
   "execution_count": 119,
   "id": "32af15f5",
   "metadata": {},
   "outputs": [
    {
     "name": "stdout",
     "output_type": "stream",
     "text": [
      "[12 29  0 12 28  8  4  1  0 14 23  1 28 12 12  8  8 22  5 13 10 24  6  7\n",
      " 23 29 28  3 15 25 11  5 19  9 20 22 15 20  7 13  2 28 29 16  5  9 21  9\n",
      "  8 25 18 17 27 21  4 23  8  7 21 19 28 17  9  9 24 10 19  2  1  0 22  8\n",
      "  2 21  7 25  2 10 19 10 11 21 14 25 22  8 20 17 12  7 14  1 20 14 21 22\n",
      "  7  9  1 28]\n",
      "[15 17 10  6 29 27  0 10 23 22  1  5 27 23 21  8 15  9  7  1  4 20 10 14\n",
      "  3 17  1 29 26  3 17 25 10 17 15 14  3  4 21 28  9 20  3 26 26 19 17  0\n",
      "  7 29 16 27 27 11  5 29 25 12 10  9  4 15 21 16 13 12 24 21 15  9 28 15\n",
      " 14 26 11 11  2 20 15  6 23 13 18 24 17 14  1 12 21  4 18 21 22 24 26 22\n",
      " 17 17 25  4]\n",
      "[27 46 10 18 57 35  4 11 23 36 24  6 55 35 33 16 23 31 12 14 14 44 16 21\n",
      " 26 46 29 32 41 28 28 30 29 26 35 36 18 24 28 41 11 48 32 42 31 28 38  9\n",
      " 15 54 34 44 54 32  9 52 33 19 31 28 32 32 30 25 37 22 43 23 16  9 50 23\n",
      " 16 47 18 36  4 30 34 16 34 34 32 49 39 22 21 29 33 11 32 22 42 38 47 44\n",
      " 24 26 26 32]\n"
     ]
    }
   ],
   "source": [
    "arr = np.random.randint(30, size = (100,100,100,100))\n",
    "print(arr[98, 98, 98, :])\n",
    "print(arr[99, 99, 99, :])\n",
    "print(arr[98, 98, 98, :] + arr[99, 99, 99, :])"
   ]
  },
  {
   "cell_type": "markdown",
   "id": "a951c78f",
   "metadata": {},
   "source": [
    "#### 25. В случайном массиве 10х10 поменяйте две строки местами? (★★★)"
   ]
  },
  {
   "cell_type": "code",
   "execution_count": 114,
   "id": "e29b3fde",
   "metadata": {},
   "outputs": [
    {
     "name": "stdout",
     "output_type": "stream",
     "text": [
      "[[28 21  1  5 16  7  0 10 22 15]\n",
      " [17 28 15 17 11 10 19  5 12 26]\n",
      " [21  6 28 15 28  1 24 28 16 16]\n",
      " [ 9 27 22  6 19  3 27 17  9 24]\n",
      " [ 0 21 16 25 27 29  5 16 24 25]\n",
      " [10  1 12 22  9 20 21  9 25 19]\n",
      " [19 27  6 12 27  6 19  1 12 10]\n",
      " [17 28 28 23 13 16 15  7 25 15]\n",
      " [ 0 10 24 24 26 16 19 25 16 12]\n",
      " [11 12  6  3 20  9  0 12  6 25]]\n",
      "[[10  1 12 22  9 20 21  9 25 19]\n",
      " [17 28 15 17 11 10 19  5 12 26]\n",
      " [21  6 28 15 28  1 24 28 16 16]\n",
      " [ 9 27 22  6 19  3 27 17  9 24]\n",
      " [ 0 21 16 25 27 29  5 16 24 25]\n",
      " [28 21  1  5 16  7  0 10 22 15]\n",
      " [19 27  6 12 27  6 19  1 12 10]\n",
      " [17 28 28 23 13 16 15  7 25 15]\n",
      " [ 0 10 24 24 26 16 19 25 16 12]\n",
      " [11 12  6  3 20  9  0 12  6 25]]\n"
     ]
    }
   ],
   "source": [
    "arr1 = np.random.randint(30, size = (10,10))\n",
    "print(arr1)\n",
    "# меняем 1 и 6 строку местами\n",
    "arr1[(5, 0), :] = arr1[(0, 5), :]\n",
    "print(arr1)"
   ]
  },
  {
   "cell_type": "markdown",
   "id": "30489fc8",
   "metadata": {},
   "source": [
    "#### 26. Посчитайте ранг случайной матрицы 3х3? (★★★)"
   ]
  },
  {
   "cell_type": "code",
   "execution_count": 69,
   "id": "6f207497",
   "metadata": {},
   "outputs": [
    {
     "name": "stdout",
     "output_type": "stream",
     "text": [
      "[[0 0 1]\n",
      " [0 0 0]\n",
      " [0 1 1]]\n",
      "2\n"
     ]
    }
   ],
   "source": [
    "arr = np.random.randint(0, 2, size = (3,3))\n",
    "A = np.asmatrix(arr)\n",
    "rank = np.linalg.matrix_rank(A)\n",
    "print(A)\n",
    "print(rank)"
   ]
  }
 ],
 "metadata": {
  "kernelspec": {
   "display_name": "Python 3 (ipykernel)",
   "language": "python",
   "name": "python3"
  },
  "language_info": {
   "codemirror_mode": {
    "name": "ipython",
    "version": 3
   },
   "file_extension": ".py",
   "mimetype": "text/x-python",
   "name": "python",
   "nbconvert_exporter": "python",
   "pygments_lexer": "ipython3",
   "version": "3.9.5"
  }
 },
 "nbformat": 4,
 "nbformat_minor": 5
}
