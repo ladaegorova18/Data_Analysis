{
 "cells": [
  {
   "cell_type": "code",
   "execution_count": 2,
   "id": "480e7687",
   "metadata": {},
   "outputs": [
    {
     "name": "stdout",
     "output_type": "stream",
     "text": [
      "y\n",
      "yyyyyy\n"
     ]
    }
   ],
   "source": [
    "b = input()\n",
    "print(b * 6)"
   ]
  },
  {
   "cell_type": "code",
   "execution_count": 3,
   "id": "181564cb",
   "metadata": {},
   "outputs": [
    {
     "name": "stdout",
     "output_type": "stream",
     "text": [
      "a\n"
     ]
    }
   ],
   "source": [
    "print(\"a\")"
   ]
  },
  {
   "cell_type": "code",
   "execution_count": 25,
   "id": "e11070de",
   "metadata": {},
   "outputs": [
    {
     "name": "stdout",
     "output_type": "stream",
     "text": [
      "Enter numbers:-2 42\n",
      "Enter operation:/\n",
      "-0.047619047619047616\n"
     ]
    }
   ],
   "source": [
    "operations = {\n",
    "    \"+\" : lambda x, y: x + y,\n",
    "    \"-\" : lambda x, y: x - y,\n",
    "    \"*\" : lambda x, y: x * y,\n",
    "    \"/\" : lambda x, y: x / y\n",
    "}\n",
    "a, b = map(float, input(\"Enter numbers:\").split())\n",
    "    \n",
    "op = input(\"Enter operation:\")\n",
    "if op in operations:\n",
    "    print(operations[op](a, b))\n",
    "else:\n",
    "    print(\"Unknown operation\")"
   ]
  },
  {
   "cell_type": "code",
   "execution_count": 21,
   "id": "942a91fd",
   "metadata": {},
   "outputs": [
    {
     "name": "stdout",
     "output_type": "stream",
     "text": [
      "Enter year:2022\n",
      "False\n"
     ]
    }
   ],
   "source": [
    "import calendar\n",
    "\n",
    "try:\n",
    "    year = int(input(\"Enter year:\"))\n",
    "    print(calendar.isleap(year))\n",
    "except ValueError:\n",
    "    print(\"This is not an integer number :)\")"
   ]
  },
  {
   "cell_type": "code",
   "execution_count": 27,
   "id": "a7115d54",
   "metadata": {},
   "outputs": [
    {
     "name": "stdout",
     "output_type": "stream",
     "text": [
      "Enter side of a square:5.1\n",
      "perimeter = 20.4\n",
      "area = 26.009999999999998\n",
      "diag = 7.212489168102785\n"
     ]
    }
   ],
   "source": [
    "import math \n",
    "\n",
    "try:\n",
    "    side = float(input(\"Enter side of a square:\"))\n",
    "    if (side > 0):\n",
    "        print(\"perimeter = {}\".format(side * 4))\n",
    "        print(\"area = {}\".format(side * side))\n",
    "        print(\"diag = {}\".format(math.sqrt(2) * side))\n",
    "    else:\n",
    "        print(\"Side should be positive\")\n",
    "except ValueError:\n",
    "    print(\"This is not a number :)\")"
   ]
  },
  {
   "cell_type": "code",
   "execution_count": null,
   "id": "48118feb",
   "metadata": {},
   "outputs": [],
   "source": []
  },
  {
   "cell_type": "code",
   "execution_count": null,
   "id": "0627ee04",
   "metadata": {},
   "outputs": [],
   "source": []
  }
 ],
 "metadata": {
  "kernelspec": {
   "display_name": "Python 3 (ipykernel)",
   "language": "python",
   "name": "python3"
  },
  "language_info": {
   "codemirror_mode": {
    "name": "ipython",
    "version": 3
   },
   "file_extension": ".py",
   "mimetype": "text/x-python",
   "name": "python",
   "nbconvert_exporter": "python",
   "pygments_lexer": "ipython3",
   "version": "3.9.5"
  }
 },
 "nbformat": 4,
 "nbformat_minor": 5
}
