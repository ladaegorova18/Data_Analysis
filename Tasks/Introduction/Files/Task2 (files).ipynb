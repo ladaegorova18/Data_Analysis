{
 "cells": [
  {
   "cell_type": "code",
   "execution_count": 3,
   "id": "7a6fcbe2",
   "metadata": {
    "scrolled": true
   },
   "outputs": [
    {
     "name": "stdout",
     "output_type": "stream",
     "text": [
      "(2.0, -6.133)\n"
     ]
    }
   ],
   "source": [
    "with open('cortage.txt') as f: #cortage.txt: 2 -6.133\n",
    "    a = map(float, f.read().split(\" \")) \n",
    "    print (tuple(a))"
   ]
  },
  {
   "cell_type": "markdown",
   "id": "c8b9e868",
   "metadata": {},
   "source": [
    "Once all the engineering professors were sitting in one plane. # words.txt\n",
    "Before the takeoff, one announcement came\n",
    "- This plane is made by your students\n",
    "Then all professors stood up, ran and went outside.\n",
    "But the principal was sitting.\n",
    "One guy came and asked:\n",
    "- Are you not afraid?\n",
    "Then the principal replied\n",
    "- I trust my students very well and I am sure the plane won’t even start."
   ]
  },
  {
   "cell_type": "code",
   "execution_count": 49,
   "id": "6ff818c8",
   "metadata": {},
   "outputs": [
    {
     "name": "stdout",
     "output_type": "stream",
     "text": [
      "announcement\n"
     ]
    }
   ],
   "source": [
    "with open('words.txt') as f:\n",
    "    words = f.read().split(\" \")\n",
    "    max = 0\n",
    "    maxWord = \"\"\n",
    "    for word in words:\n",
    "        if len(word) > max:\n",
    "            max = len(word)\n",
    "            maxWord = word\n",
    "    print(maxWord)"
   ]
  },
  {
   "cell_type": "code",
   "execution_count": 43,
   "id": "5c586d38",
   "metadata": {},
   "outputs": [],
   "source": [
    "with open('words.txt') as f:\n",
    "    with open(\"newFile.txt\", \"w+\") as newF:\n",
    "        for line in f:\n",
    "            newF.write(line)"
   ]
  },
  {
   "cell_type": "code",
   "execution_count": 6,
   "id": "f145b062",
   "metadata": {},
   "outputs": [],
   "source": [
    "import random\n",
    "\n",
    "with open('words.txt') as f:\n",
    "    length = sum(1 for _ in f)\n",
    "    num = random.randint(0, length - 1)\n",
    "    f.seek(0)\n",
    "    for i, line in enumerate(f):\n",
    "        if i == num:\n",
    "            print(line)"
   ]
  },
  {
   "cell_type": "code",
   "execution_count": 40,
   "id": "5b1321a9",
   "metadata": {},
   "outputs": [
    {
     "name": "stdout",
     "output_type": "stream",
     "text": [
      "black BMW is riding\n"
     ]
    }
   ],
   "source": [
    "class Car(object):\n",
    "    def __init__(self, brand, color, number):\n",
    "        self.brand = brand\n",
    "        self.color = color\n",
    "        self.number = number\n",
    "\n",
    "    def move(self):\n",
    "        print(\"{0} {1} is riding\".format(self.color, self.brand))\n",
    "\n",
    "    def paint(self, newColor):\n",
    "        self.color = newColor\n",
    "\n",
    "car = Car(\"BMW\", \"black\", 777)\n",
    "car.move()"
   ]
  },
  {
   "cell_type": "code",
   "execution_count": null,
   "id": "40f8236a",
   "metadata": {},
   "outputs": [],
   "source": []
  }
 ],
 "metadata": {
  "kernelspec": {
   "display_name": "Python 3 (ipykernel)",
   "language": "python",
   "name": "python3"
  },
  "language_info": {
   "codemirror_mode": {
    "name": "ipython",
    "version": 3
   },
   "file_extension": ".py",
   "mimetype": "text/x-python",
   "name": "python",
   "nbconvert_exporter": "python",
   "pygments_lexer": "ipython3",
   "version": "3.9.5"
  }
 },
 "nbformat": 4,
 "nbformat_minor": 5
}
