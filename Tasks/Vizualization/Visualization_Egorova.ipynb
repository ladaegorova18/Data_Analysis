{
 "cells": [
  {
   "cell_type": "code",
   "execution_count": 1,
   "id": "9e0774a0",
   "metadata": {},
   "outputs": [],
   "source": [
    "import pandas as pd\n",
    "from matplotlib import pyplot as plt\n",
    "import seaborn as sns\n",
    "import numpy as np\n",
    "import warnings\n",
    "warnings.filterwarnings('ignore')"
   ]
  },
  {
   "cell_type": "code",
   "execution_count": 2,
   "id": "cbf717fa",
   "metadata": {},
   "outputs": [
    {
     "data": {
      "text/html": [
       "<div>\n",
       "<style scoped>\n",
       "    .dataframe tbody tr th:only-of-type {\n",
       "        vertical-align: middle;\n",
       "    }\n",
       "\n",
       "    .dataframe tbody tr th {\n",
       "        vertical-align: top;\n",
       "    }\n",
       "\n",
       "    .dataframe thead th {\n",
       "        text-align: right;\n",
       "    }\n",
       "</style>\n",
       "<table border=\"1\" class=\"dataframe\">\n",
       "  <thead>\n",
       "    <tr style=\"text-align: right;\">\n",
       "      <th></th>\n",
       "      <th>Manufacturer</th>\n",
       "      <th>Model</th>\n",
       "      <th>Sales_in_thousands</th>\n",
       "      <th>__year_resale_value</th>\n",
       "      <th>Vehicle_type</th>\n",
       "      <th>Price_in_thousands</th>\n",
       "      <th>Engine_size</th>\n",
       "      <th>Horsepower</th>\n",
       "      <th>Wheelbase</th>\n",
       "      <th>Width</th>\n",
       "      <th>Length</th>\n",
       "      <th>Curb_weight</th>\n",
       "      <th>Fuel_capacity</th>\n",
       "      <th>Fuel_efficiency</th>\n",
       "      <th>Latest_Launch</th>\n",
       "      <th>Power_perf_factor</th>\n",
       "    </tr>\n",
       "  </thead>\n",
       "  <tbody>\n",
       "    <tr>\n",
       "      <th>0</th>\n",
       "      <td>Acura</td>\n",
       "      <td>Integra</td>\n",
       "      <td>16.919</td>\n",
       "      <td>16.360</td>\n",
       "      <td>Passenger</td>\n",
       "      <td>21.50</td>\n",
       "      <td>1.8</td>\n",
       "      <td>140.0</td>\n",
       "      <td>101.2</td>\n",
       "      <td>67.3</td>\n",
       "      <td>172.4</td>\n",
       "      <td>2.639</td>\n",
       "      <td>13.2</td>\n",
       "      <td>28.0</td>\n",
       "      <td>2/2/2012</td>\n",
       "      <td>58.280150</td>\n",
       "    </tr>\n",
       "    <tr>\n",
       "      <th>1</th>\n",
       "      <td>Acura</td>\n",
       "      <td>TL</td>\n",
       "      <td>39.384</td>\n",
       "      <td>19.875</td>\n",
       "      <td>Passenger</td>\n",
       "      <td>28.40</td>\n",
       "      <td>3.2</td>\n",
       "      <td>225.0</td>\n",
       "      <td>108.1</td>\n",
       "      <td>70.3</td>\n",
       "      <td>192.9</td>\n",
       "      <td>3.517</td>\n",
       "      <td>17.2</td>\n",
       "      <td>25.0</td>\n",
       "      <td>6/3/2011</td>\n",
       "      <td>91.370778</td>\n",
       "    </tr>\n",
       "    <tr>\n",
       "      <th>2</th>\n",
       "      <td>Acura</td>\n",
       "      <td>CL</td>\n",
       "      <td>14.114</td>\n",
       "      <td>18.225</td>\n",
       "      <td>Passenger</td>\n",
       "      <td>NaN</td>\n",
       "      <td>3.2</td>\n",
       "      <td>225.0</td>\n",
       "      <td>106.9</td>\n",
       "      <td>70.6</td>\n",
       "      <td>192.0</td>\n",
       "      <td>3.470</td>\n",
       "      <td>17.2</td>\n",
       "      <td>26.0</td>\n",
       "      <td>1/4/2012</td>\n",
       "      <td>NaN</td>\n",
       "    </tr>\n",
       "    <tr>\n",
       "      <th>3</th>\n",
       "      <td>Acura</td>\n",
       "      <td>RL</td>\n",
       "      <td>8.588</td>\n",
       "      <td>29.725</td>\n",
       "      <td>Passenger</td>\n",
       "      <td>42.00</td>\n",
       "      <td>3.5</td>\n",
       "      <td>210.0</td>\n",
       "      <td>114.6</td>\n",
       "      <td>71.4</td>\n",
       "      <td>196.6</td>\n",
       "      <td>3.850</td>\n",
       "      <td>18.0</td>\n",
       "      <td>22.0</td>\n",
       "      <td>3/10/2011</td>\n",
       "      <td>91.389779</td>\n",
       "    </tr>\n",
       "    <tr>\n",
       "      <th>4</th>\n",
       "      <td>Audi</td>\n",
       "      <td>A4</td>\n",
       "      <td>20.397</td>\n",
       "      <td>22.255</td>\n",
       "      <td>Passenger</td>\n",
       "      <td>23.99</td>\n",
       "      <td>1.8</td>\n",
       "      <td>150.0</td>\n",
       "      <td>102.6</td>\n",
       "      <td>68.2</td>\n",
       "      <td>178.0</td>\n",
       "      <td>2.998</td>\n",
       "      <td>16.4</td>\n",
       "      <td>27.0</td>\n",
       "      <td>10/8/2011</td>\n",
       "      <td>62.777639</td>\n",
       "    </tr>\n",
       "    <tr>\n",
       "      <th>...</th>\n",
       "      <td>...</td>\n",
       "      <td>...</td>\n",
       "      <td>...</td>\n",
       "      <td>...</td>\n",
       "      <td>...</td>\n",
       "      <td>...</td>\n",
       "      <td>...</td>\n",
       "      <td>...</td>\n",
       "      <td>...</td>\n",
       "      <td>...</td>\n",
       "      <td>...</td>\n",
       "      <td>...</td>\n",
       "      <td>...</td>\n",
       "      <td>...</td>\n",
       "      <td>...</td>\n",
       "      <td>...</td>\n",
       "    </tr>\n",
       "    <tr>\n",
       "      <th>152</th>\n",
       "      <td>Volvo</td>\n",
       "      <td>V40</td>\n",
       "      <td>3.545</td>\n",
       "      <td>NaN</td>\n",
       "      <td>Passenger</td>\n",
       "      <td>24.40</td>\n",
       "      <td>1.9</td>\n",
       "      <td>160.0</td>\n",
       "      <td>100.5</td>\n",
       "      <td>67.6</td>\n",
       "      <td>176.6</td>\n",
       "      <td>3.042</td>\n",
       "      <td>15.8</td>\n",
       "      <td>25.0</td>\n",
       "      <td>9/21/2011</td>\n",
       "      <td>66.498812</td>\n",
       "    </tr>\n",
       "    <tr>\n",
       "      <th>153</th>\n",
       "      <td>Volvo</td>\n",
       "      <td>S70</td>\n",
       "      <td>15.245</td>\n",
       "      <td>NaN</td>\n",
       "      <td>Passenger</td>\n",
       "      <td>27.50</td>\n",
       "      <td>2.4</td>\n",
       "      <td>168.0</td>\n",
       "      <td>104.9</td>\n",
       "      <td>69.3</td>\n",
       "      <td>185.9</td>\n",
       "      <td>3.208</td>\n",
       "      <td>17.9</td>\n",
       "      <td>25.0</td>\n",
       "      <td>11/24/2012</td>\n",
       "      <td>70.654495</td>\n",
       "    </tr>\n",
       "    <tr>\n",
       "      <th>154</th>\n",
       "      <td>Volvo</td>\n",
       "      <td>V70</td>\n",
       "      <td>17.531</td>\n",
       "      <td>NaN</td>\n",
       "      <td>Passenger</td>\n",
       "      <td>28.80</td>\n",
       "      <td>2.4</td>\n",
       "      <td>168.0</td>\n",
       "      <td>104.9</td>\n",
       "      <td>69.3</td>\n",
       "      <td>186.2</td>\n",
       "      <td>3.259</td>\n",
       "      <td>17.9</td>\n",
       "      <td>25.0</td>\n",
       "      <td>6/25/2011</td>\n",
       "      <td>71.155978</td>\n",
       "    </tr>\n",
       "    <tr>\n",
       "      <th>155</th>\n",
       "      <td>Volvo</td>\n",
       "      <td>C70</td>\n",
       "      <td>3.493</td>\n",
       "      <td>NaN</td>\n",
       "      <td>Passenger</td>\n",
       "      <td>45.50</td>\n",
       "      <td>2.3</td>\n",
       "      <td>236.0</td>\n",
       "      <td>104.9</td>\n",
       "      <td>71.5</td>\n",
       "      <td>185.7</td>\n",
       "      <td>3.601</td>\n",
       "      <td>18.5</td>\n",
       "      <td>23.0</td>\n",
       "      <td>4/26/2011</td>\n",
       "      <td>101.623357</td>\n",
       "    </tr>\n",
       "    <tr>\n",
       "      <th>156</th>\n",
       "      <td>Volvo</td>\n",
       "      <td>S80</td>\n",
       "      <td>18.969</td>\n",
       "      <td>NaN</td>\n",
       "      <td>Passenger</td>\n",
       "      <td>36.00</td>\n",
       "      <td>2.9</td>\n",
       "      <td>201.0</td>\n",
       "      <td>109.9</td>\n",
       "      <td>72.1</td>\n",
       "      <td>189.8</td>\n",
       "      <td>3.600</td>\n",
       "      <td>21.1</td>\n",
       "      <td>24.0</td>\n",
       "      <td>11/14/2011</td>\n",
       "      <td>85.735655</td>\n",
       "    </tr>\n",
       "  </tbody>\n",
       "</table>\n",
       "<p>157 rows × 16 columns</p>\n",
       "</div>"
      ],
      "text/plain": [
       "    Manufacturer    Model  Sales_in_thousands  __year_resale_value  \\\n",
       "0          Acura  Integra              16.919               16.360   \n",
       "1          Acura       TL              39.384               19.875   \n",
       "2          Acura       CL              14.114               18.225   \n",
       "3          Acura       RL               8.588               29.725   \n",
       "4           Audi       A4              20.397               22.255   \n",
       "..           ...      ...                 ...                  ...   \n",
       "152        Volvo      V40               3.545                  NaN   \n",
       "153        Volvo      S70              15.245                  NaN   \n",
       "154        Volvo      V70              17.531                  NaN   \n",
       "155        Volvo      C70               3.493                  NaN   \n",
       "156        Volvo      S80              18.969                  NaN   \n",
       "\n",
       "    Vehicle_type  Price_in_thousands  Engine_size  Horsepower  Wheelbase  \\\n",
       "0      Passenger               21.50          1.8       140.0      101.2   \n",
       "1      Passenger               28.40          3.2       225.0      108.1   \n",
       "2      Passenger                 NaN          3.2       225.0      106.9   \n",
       "3      Passenger               42.00          3.5       210.0      114.6   \n",
       "4      Passenger               23.99          1.8       150.0      102.6   \n",
       "..           ...                 ...          ...         ...        ...   \n",
       "152    Passenger               24.40          1.9       160.0      100.5   \n",
       "153    Passenger               27.50          2.4       168.0      104.9   \n",
       "154    Passenger               28.80          2.4       168.0      104.9   \n",
       "155    Passenger               45.50          2.3       236.0      104.9   \n",
       "156    Passenger               36.00          2.9       201.0      109.9   \n",
       "\n",
       "     Width  Length  Curb_weight  Fuel_capacity  Fuel_efficiency Latest_Launch  \\\n",
       "0     67.3   172.4        2.639           13.2             28.0      2/2/2012   \n",
       "1     70.3   192.9        3.517           17.2             25.0      6/3/2011   \n",
       "2     70.6   192.0        3.470           17.2             26.0      1/4/2012   \n",
       "3     71.4   196.6        3.850           18.0             22.0     3/10/2011   \n",
       "4     68.2   178.0        2.998           16.4             27.0     10/8/2011   \n",
       "..     ...     ...          ...            ...              ...           ...   \n",
       "152   67.6   176.6        3.042           15.8             25.0     9/21/2011   \n",
       "153   69.3   185.9        3.208           17.9             25.0    11/24/2012   \n",
       "154   69.3   186.2        3.259           17.9             25.0     6/25/2011   \n",
       "155   71.5   185.7        3.601           18.5             23.0     4/26/2011   \n",
       "156   72.1   189.8        3.600           21.1             24.0    11/14/2011   \n",
       "\n",
       "     Power_perf_factor  \n",
       "0            58.280150  \n",
       "1            91.370778  \n",
       "2                  NaN  \n",
       "3            91.389779  \n",
       "4            62.777639  \n",
       "..                 ...  \n",
       "152          66.498812  \n",
       "153          70.654495  \n",
       "154          71.155978  \n",
       "155         101.623357  \n",
       "156          85.735655  \n",
       "\n",
       "[157 rows x 16 columns]"
      ]
     },
     "execution_count": 2,
     "metadata": {},
     "output_type": "execute_result"
    }
   ],
   "source": [
    "df = pd.read_csv('Car_sales.csv')\n",
    "df"
   ]
  },
  {
   "cell_type": "code",
   "execution_count": 3,
   "id": "5f7ffd01",
   "metadata": {},
   "outputs": [
    {
     "name": "stdout",
     "output_type": "stream",
     "text": [
      "<class 'pandas.core.frame.DataFrame'>\n",
      "RangeIndex: 157 entries, 0 to 156\n",
      "Data columns (total 16 columns):\n",
      " #   Column               Non-Null Count  Dtype  \n",
      "---  ------               --------------  -----  \n",
      " 0   Manufacturer         157 non-null    object \n",
      " 1   Model                157 non-null    object \n",
      " 2   Sales_in_thousands   157 non-null    float64\n",
      " 3   __year_resale_value  121 non-null    float64\n",
      " 4   Vehicle_type         157 non-null    object \n",
      " 5   Price_in_thousands   155 non-null    float64\n",
      " 6   Engine_size          156 non-null    float64\n",
      " 7   Horsepower           156 non-null    float64\n",
      " 8   Wheelbase            156 non-null    float64\n",
      " 9   Width                156 non-null    float64\n",
      " 10  Length               156 non-null    float64\n",
      " 11  Curb_weight          155 non-null    float64\n",
      " 12  Fuel_capacity        156 non-null    float64\n",
      " 13  Fuel_efficiency      154 non-null    float64\n",
      " 14  Latest_Launch        157 non-null    object \n",
      " 15  Power_perf_factor    155 non-null    float64\n",
      "dtypes: float64(12), object(4)\n",
      "memory usage: 19.8+ KB\n"
     ]
    }
   ],
   "source": [
    "df.info()"
   ]
  },
  {
   "cell_type": "code",
   "execution_count": 4,
   "id": "8bed2423",
   "metadata": {},
   "outputs": [
    {
     "name": "stdout",
     "output_type": "stream",
     "text": [
      "<class 'pandas.core.frame.DataFrame'>\n",
      "RangeIndex: 152 entries, 0 to 151\n",
      "Data columns (total 17 columns):\n",
      " #   Column               Non-Null Count  Dtype  \n",
      "---  ------               --------------  -----  \n",
      " 0   index                152 non-null    int64  \n",
      " 1   Manufacturer         152 non-null    object \n",
      " 2   Model                152 non-null    object \n",
      " 3   Sales_in_thousands   152 non-null    float64\n",
      " 4   __year_resale_value  117 non-null    float64\n",
      " 5   Vehicle_type         152 non-null    object \n",
      " 6   Price_in_thousands   152 non-null    float64\n",
      " 7   Engine_size          152 non-null    float64\n",
      " 8   Horsepower           152 non-null    float64\n",
      " 9   Wheelbase            152 non-null    float64\n",
      " 10  Width                152 non-null    float64\n",
      " 11  Length               152 non-null    float64\n",
      " 12  Curb_weight          152 non-null    float64\n",
      " 13  Fuel_capacity        152 non-null    float64\n",
      " 14  Fuel_efficiency      152 non-null    float64\n",
      " 15  Latest_Launch        152 non-null    object \n",
      " 16  Power_perf_factor    152 non-null    float64\n",
      "dtypes: float64(12), int64(1), object(4)\n",
      "memory usage: 20.3+ KB\n"
     ]
    }
   ],
   "source": [
    "df.dropna(inplace=True,subset=['Engine_size','Horsepower', 'Wheelbase', 'Width', 'Length', 'Fuel_capacity', 'Curb_weight', 'Power_perf_factor', 'Fuel_efficiency']) # удаляем строки там, где nan встречается всего несколько раз \n",
    "df.reset_index(inplace=True)\n",
    "df.info()"
   ]
  },
  {
   "cell_type": "code",
   "execution_count": 5,
   "id": "9c314bd0",
   "metadata": {},
   "outputs": [
    {
     "name": "stdout",
     "output_type": "stream",
     "text": [
      "<class 'pandas.core.frame.DataFrame'>\n",
      "RangeIndex: 152 entries, 0 to 151\n",
      "Data columns (total 17 columns):\n",
      " #   Column               Non-Null Count  Dtype  \n",
      "---  ------               --------------  -----  \n",
      " 0   index                152 non-null    Int64  \n",
      " 1   Manufacturer         152 non-null    string \n",
      " 2   Model                152 non-null    string \n",
      " 3   Sales_in_thousands   152 non-null    Float64\n",
      " 4   __year_resale_value  117 non-null    Float64\n",
      " 5   Vehicle_type         152 non-null    string \n",
      " 6   Price_in_thousands   152 non-null    Float64\n",
      " 7   Engine_size          152 non-null    Float64\n",
      " 8   Horsepower           152 non-null    Int64  \n",
      " 9   Wheelbase            152 non-null    Float64\n",
      " 10  Width                152 non-null    Float64\n",
      " 11  Length               152 non-null    Float64\n",
      " 12  Curb_weight          152 non-null    Float64\n",
      " 13  Fuel_capacity        152 non-null    Float64\n",
      " 14  Fuel_efficiency      152 non-null    Int64  \n",
      " 15  Latest_Launch        152 non-null    string \n",
      " 16  Power_perf_factor    152 non-null    Float64\n",
      "dtypes: Float64(10), Int64(3), string(4)\n",
      "memory usage: 22.2 KB\n"
     ]
    }
   ],
   "source": [
    "df = df.convert_dtypes() #меняем тип колонок\n",
    "df.info()"
   ]
  },
  {
   "cell_type": "code",
   "execution_count": 6,
   "id": "d78dc265",
   "metadata": {},
   "outputs": [
    {
     "data": {
      "text/html": [
       "<div>\n",
       "<style scoped>\n",
       "    .dataframe tbody tr th:only-of-type {\n",
       "        vertical-align: middle;\n",
       "    }\n",
       "\n",
       "    .dataframe tbody tr th {\n",
       "        vertical-align: top;\n",
       "    }\n",
       "\n",
       "    .dataframe thead th {\n",
       "        text-align: right;\n",
       "    }\n",
       "</style>\n",
       "<table border=\"1\" class=\"dataframe\">\n",
       "  <thead>\n",
       "    <tr style=\"text-align: right;\">\n",
       "      <th></th>\n",
       "      <th>index</th>\n",
       "      <th>Manufacturer</th>\n",
       "      <th>Model</th>\n",
       "      <th>Sales_in_thousands</th>\n",
       "      <th>__year_resale_value</th>\n",
       "      <th>Vehicle_type</th>\n",
       "      <th>Price_in_thousands</th>\n",
       "      <th>Engine_size</th>\n",
       "      <th>Horsepower</th>\n",
       "      <th>Wheelbase</th>\n",
       "      <th>Width</th>\n",
       "      <th>Length</th>\n",
       "      <th>Curb_weight</th>\n",
       "      <th>Fuel_capacity</th>\n",
       "      <th>Fuel_efficiency</th>\n",
       "      <th>Latest_Launch</th>\n",
       "      <th>Power_perf_factor</th>\n",
       "    </tr>\n",
       "  </thead>\n",
       "  <tbody>\n",
       "    <tr>\n",
       "      <th>0</th>\n",
       "      <td>0</td>\n",
       "      <td>Acura</td>\n",
       "      <td>Integra</td>\n",
       "      <td>16.919</td>\n",
       "      <td>16.36</td>\n",
       "      <td>Passenger</td>\n",
       "      <td>21.5</td>\n",
       "      <td>1.8</td>\n",
       "      <td>140</td>\n",
       "      <td>101.2</td>\n",
       "      <td>67.3</td>\n",
       "      <td>172.4</td>\n",
       "      <td>2.639</td>\n",
       "      <td>13.2</td>\n",
       "      <td>28</td>\n",
       "      <td>2/2/2012</td>\n",
       "      <td>58.28015</td>\n",
       "    </tr>\n",
       "    <tr>\n",
       "      <th>1</th>\n",
       "      <td>1</td>\n",
       "      <td>Acura</td>\n",
       "      <td>TL</td>\n",
       "      <td>39.384</td>\n",
       "      <td>19.875</td>\n",
       "      <td>Passenger</td>\n",
       "      <td>28.4</td>\n",
       "      <td>3.2</td>\n",
       "      <td>225</td>\n",
       "      <td>108.1</td>\n",
       "      <td>70.3</td>\n",
       "      <td>192.9</td>\n",
       "      <td>3.517</td>\n",
       "      <td>17.2</td>\n",
       "      <td>25</td>\n",
       "      <td>6/3/2011</td>\n",
       "      <td>91.370778</td>\n",
       "    </tr>\n",
       "    <tr>\n",
       "      <th>2</th>\n",
       "      <td>3</td>\n",
       "      <td>Acura</td>\n",
       "      <td>RL</td>\n",
       "      <td>8.588</td>\n",
       "      <td>29.725</td>\n",
       "      <td>Passenger</td>\n",
       "      <td>42.0</td>\n",
       "      <td>3.5</td>\n",
       "      <td>210</td>\n",
       "      <td>114.6</td>\n",
       "      <td>71.4</td>\n",
       "      <td>196.6</td>\n",
       "      <td>3.85</td>\n",
       "      <td>18.0</td>\n",
       "      <td>22</td>\n",
       "      <td>3/10/2011</td>\n",
       "      <td>91.389779</td>\n",
       "    </tr>\n",
       "    <tr>\n",
       "      <th>3</th>\n",
       "      <td>4</td>\n",
       "      <td>Audi</td>\n",
       "      <td>A4</td>\n",
       "      <td>20.397</td>\n",
       "      <td>22.255</td>\n",
       "      <td>Passenger</td>\n",
       "      <td>23.99</td>\n",
       "      <td>1.8</td>\n",
       "      <td>150</td>\n",
       "      <td>102.6</td>\n",
       "      <td>68.2</td>\n",
       "      <td>178.0</td>\n",
       "      <td>2.998</td>\n",
       "      <td>16.4</td>\n",
       "      <td>27</td>\n",
       "      <td>10/8/2011</td>\n",
       "      <td>62.777639</td>\n",
       "    </tr>\n",
       "    <tr>\n",
       "      <th>4</th>\n",
       "      <td>5</td>\n",
       "      <td>Audi</td>\n",
       "      <td>A6</td>\n",
       "      <td>18.78</td>\n",
       "      <td>23.555</td>\n",
       "      <td>Passenger</td>\n",
       "      <td>33.95</td>\n",
       "      <td>2.8</td>\n",
       "      <td>200</td>\n",
       "      <td>108.7</td>\n",
       "      <td>76.1</td>\n",
       "      <td>192.0</td>\n",
       "      <td>3.561</td>\n",
       "      <td>18.5</td>\n",
       "      <td>22</td>\n",
       "      <td>8/9/2011</td>\n",
       "      <td>84.565105</td>\n",
       "    </tr>\n",
       "    <tr>\n",
       "      <th>...</th>\n",
       "      <td>...</td>\n",
       "      <td>...</td>\n",
       "      <td>...</td>\n",
       "      <td>...</td>\n",
       "      <td>...</td>\n",
       "      <td>...</td>\n",
       "      <td>...</td>\n",
       "      <td>...</td>\n",
       "      <td>...</td>\n",
       "      <td>...</td>\n",
       "      <td>...</td>\n",
       "      <td>...</td>\n",
       "      <td>...</td>\n",
       "      <td>...</td>\n",
       "      <td>...</td>\n",
       "      <td>...</td>\n",
       "      <td>...</td>\n",
       "    </tr>\n",
       "    <tr>\n",
       "      <th>147</th>\n",
       "      <td>152</td>\n",
       "      <td>Volvo</td>\n",
       "      <td>V40</td>\n",
       "      <td>3.545</td>\n",
       "      <td>13.76</td>\n",
       "      <td>Passenger</td>\n",
       "      <td>24.4</td>\n",
       "      <td>1.9</td>\n",
       "      <td>160</td>\n",
       "      <td>100.5</td>\n",
       "      <td>67.6</td>\n",
       "      <td>176.6</td>\n",
       "      <td>3.042</td>\n",
       "      <td>15.8</td>\n",
       "      <td>25</td>\n",
       "      <td>9/21/2011</td>\n",
       "      <td>66.498812</td>\n",
       "    </tr>\n",
       "    <tr>\n",
       "      <th>148</th>\n",
       "      <td>153</td>\n",
       "      <td>Volvo</td>\n",
       "      <td>S70</td>\n",
       "      <td>15.245</td>\n",
       "      <td>13.76</td>\n",
       "      <td>Passenger</td>\n",
       "      <td>27.5</td>\n",
       "      <td>2.4</td>\n",
       "      <td>168</td>\n",
       "      <td>104.9</td>\n",
       "      <td>69.3</td>\n",
       "      <td>185.9</td>\n",
       "      <td>3.208</td>\n",
       "      <td>17.9</td>\n",
       "      <td>25</td>\n",
       "      <td>11/24/2012</td>\n",
       "      <td>70.654495</td>\n",
       "    </tr>\n",
       "    <tr>\n",
       "      <th>149</th>\n",
       "      <td>154</td>\n",
       "      <td>Volvo</td>\n",
       "      <td>V70</td>\n",
       "      <td>17.531</td>\n",
       "      <td>13.76</td>\n",
       "      <td>Passenger</td>\n",
       "      <td>28.8</td>\n",
       "      <td>2.4</td>\n",
       "      <td>168</td>\n",
       "      <td>104.9</td>\n",
       "      <td>69.3</td>\n",
       "      <td>186.2</td>\n",
       "      <td>3.259</td>\n",
       "      <td>17.9</td>\n",
       "      <td>25</td>\n",
       "      <td>6/25/2011</td>\n",
       "      <td>71.155978</td>\n",
       "    </tr>\n",
       "    <tr>\n",
       "      <th>150</th>\n",
       "      <td>155</td>\n",
       "      <td>Volvo</td>\n",
       "      <td>C70</td>\n",
       "      <td>3.493</td>\n",
       "      <td>13.76</td>\n",
       "      <td>Passenger</td>\n",
       "      <td>45.5</td>\n",
       "      <td>2.3</td>\n",
       "      <td>236</td>\n",
       "      <td>104.9</td>\n",
       "      <td>71.5</td>\n",
       "      <td>185.7</td>\n",
       "      <td>3.601</td>\n",
       "      <td>18.5</td>\n",
       "      <td>23</td>\n",
       "      <td>4/26/2011</td>\n",
       "      <td>101.623357</td>\n",
       "    </tr>\n",
       "    <tr>\n",
       "      <th>151</th>\n",
       "      <td>156</td>\n",
       "      <td>Volvo</td>\n",
       "      <td>S80</td>\n",
       "      <td>18.969</td>\n",
       "      <td>13.76</td>\n",
       "      <td>Passenger</td>\n",
       "      <td>36.0</td>\n",
       "      <td>2.9</td>\n",
       "      <td>201</td>\n",
       "      <td>109.9</td>\n",
       "      <td>72.1</td>\n",
       "      <td>189.8</td>\n",
       "      <td>3.6</td>\n",
       "      <td>21.1</td>\n",
       "      <td>24</td>\n",
       "      <td>11/14/2011</td>\n",
       "      <td>85.735655</td>\n",
       "    </tr>\n",
       "  </tbody>\n",
       "</table>\n",
       "<p>152 rows × 17 columns</p>\n",
       "</div>"
      ],
      "text/plain": [
       "     index Manufacturer    Model  Sales_in_thousands  __year_resale_value  \\\n",
       "0        0        Acura  Integra              16.919                16.36   \n",
       "1        1        Acura       TL              39.384               19.875   \n",
       "2        3        Acura       RL               8.588               29.725   \n",
       "3        4         Audi       A4              20.397               22.255   \n",
       "4        5         Audi       A6               18.78               23.555   \n",
       "..     ...          ...      ...                 ...                  ...   \n",
       "147    152        Volvo      V40               3.545                13.76   \n",
       "148    153        Volvo      S70              15.245                13.76   \n",
       "149    154        Volvo      V70              17.531                13.76   \n",
       "150    155        Volvo      C70               3.493                13.76   \n",
       "151    156        Volvo      S80              18.969                13.76   \n",
       "\n",
       "    Vehicle_type  Price_in_thousands  Engine_size  Horsepower  Wheelbase  \\\n",
       "0      Passenger                21.5          1.8         140      101.2   \n",
       "1      Passenger                28.4          3.2         225      108.1   \n",
       "2      Passenger                42.0          3.5         210      114.6   \n",
       "3      Passenger               23.99          1.8         150      102.6   \n",
       "4      Passenger               33.95          2.8         200      108.7   \n",
       "..           ...                 ...          ...         ...        ...   \n",
       "147    Passenger                24.4          1.9         160      100.5   \n",
       "148    Passenger                27.5          2.4         168      104.9   \n",
       "149    Passenger                28.8          2.4         168      104.9   \n",
       "150    Passenger                45.5          2.3         236      104.9   \n",
       "151    Passenger                36.0          2.9         201      109.9   \n",
       "\n",
       "     Width  Length  Curb_weight  Fuel_capacity  Fuel_efficiency Latest_Launch  \\\n",
       "0     67.3   172.4        2.639           13.2               28      2/2/2012   \n",
       "1     70.3   192.9        3.517           17.2               25      6/3/2011   \n",
       "2     71.4   196.6         3.85           18.0               22     3/10/2011   \n",
       "3     68.2   178.0        2.998           16.4               27     10/8/2011   \n",
       "4     76.1   192.0        3.561           18.5               22      8/9/2011   \n",
       "..     ...     ...          ...            ...              ...           ...   \n",
       "147   67.6   176.6        3.042           15.8               25     9/21/2011   \n",
       "148   69.3   185.9        3.208           17.9               25    11/24/2012   \n",
       "149   69.3   186.2        3.259           17.9               25     6/25/2011   \n",
       "150   71.5   185.7        3.601           18.5               23     4/26/2011   \n",
       "151   72.1   189.8          3.6           21.1               24    11/14/2011   \n",
       "\n",
       "     Power_perf_factor  \n",
       "0             58.28015  \n",
       "1            91.370778  \n",
       "2            91.389779  \n",
       "3            62.777639  \n",
       "4            84.565105  \n",
       "..                 ...  \n",
       "147          66.498812  \n",
       "148          70.654495  \n",
       "149          71.155978  \n",
       "150         101.623357  \n",
       "151          85.735655  \n",
       "\n",
       "[152 rows x 17 columns]"
      ]
     },
     "execution_count": 6,
     "metadata": {},
     "output_type": "execute_result"
    }
   ],
   "source": [
    "df.fillna(method = 'pad', inplace=True)\n",
    "df"
   ]
  },
  {
   "cell_type": "code",
   "execution_count": 7,
   "id": "0cb5768e",
   "metadata": {},
   "outputs": [
    {
     "data": {
      "text/plain": [
       "Text(0.5, 1.0, 'Vehicles')"
      ]
     },
     "execution_count": 7,
     "metadata": {},
     "output_type": "execute_result"
    },
    {
     "data": {
      "image/png": "[encoded data removed]",
      "text/plain": [
       "<Figure size 432x288 with 1 Axes>"
      ]
     },
     "metadata": {
      "needs_background": "light"
     },
     "output_type": "display_data"
    }
   ],
   "source": [
    "sns.countplot(df['Vehicle_type']).set_title('Vehicles')"
   ]
  },
  {
   "cell_type": "code",
   "execution_count": 8,
   "id": "6c1afb64",
   "metadata": {},
   "outputs": [
    {
     "data": {
      "text/plain": [
       "Text(0.5, 1.0, 'Стоимость всех автомобилей')"
      ]
     },
     "execution_count": 8,
     "metadata": {},
     "output_type": "execute_result"
    },
    {
     "data": {
      "image/png": "[encoded data removed]",
      "text/plain": [
       "<Figure size 432x288 with 1 Axes>"
      ]
     },
     "metadata": {
      "needs_background": "light"
     },
     "output_type": "display_data"
    }
   ],
   "source": [
    "sns.distplot(df['Price_in_thousands']).set_title('Стоимость всех автомобилей')"
   ]
  },
  {
   "cell_type": "code",
   "execution_count": 9,
   "id": "f2bb89d4",
   "metadata": {},
   "outputs": [
    {
     "data": {
      "text/plain": [
       "Text(0.5, 1.0, 'Мощность автомобилей')"
      ]
     },
     "execution_count": 9,
     "metadata": {},
     "output_type": "execute_result"
    },
    {
     "data": {
      "image/png": "[encoded data removed]",
      "text/plain": [
       "<Figure size 432x288 with 1 Axes>"
      ]
     },
     "metadata": {
      "needs_background": "light"
     },
     "output_type": "display_data"
    }
   ],
   "source": [
    "df.loc[df['Power_perf_factor']<200,'Power_perf_factor'].hist().set_title('Мощность автомобилей')"
   ]
  },
  {
   "cell_type": "code",
   "execution_count": 10,
   "id": "9d440efa",
   "metadata": {},
   "outputs": [
    {
     "data": {
      "text/plain": [
       "Text(0.5, 1.0, 'Число продаж всех автомобилей')"
      ]
     },
     "execution_count": 10,
     "metadata": {},
     "output_type": "execute_result"
    },
    {
     "data": {
      "image/png": "[encoded data removed]",
      "text/plain": [
       "<Figure size 432x288 with 1 Axes>"
      ]
     },
     "metadata": {
      "needs_background": "light"
     },
     "output_type": "display_data"
    }
   ],
   "source": [
    "sns.boxplot(df.loc[(df['Sales_in_thousands']<200),'Sales_in_thousands']).set_title('Число продаж всех автомобилей')"
   ]
  },
  {
   "cell_type": "code",
   "execution_count": 11,
   "id": "c49ff370",
   "metadata": {},
   "outputs": [
    {
     "data": {
      "text/plain": [
       "Text(0.5, 1.0, 'Размер двигателя')"
      ]
     },
     "execution_count": 11,
     "metadata": {},
     "output_type": "execute_result"
    },
    {
     "data": {
      "image/png": "[encoded data removed]",
      "text/plain": [
       "<Figure size 432x288 with 1 Axes>"
      ]
     },
     "metadata": {
      "needs_background": "light"
     },
     "output_type": "display_data"
    }
   ],
   "source": [
    "sns.distplot(df['Engine_size']).set_title('Размер двигателя')"
   ]
  },
  {
   "cell_type": "code",
   "execution_count": 12,
   "id": "6bf63b92",
   "metadata": {},
   "outputs": [
    {
     "data": {
      "text/plain": [
       "Text(0, 0.5, 'Цена (в тысячах)')"
      ]
     },
     "execution_count": 12,
     "metadata": {},
     "output_type": "execute_result"
    },
    {
     "data": {
      "image/png": "[encoded data removed]",
      "text/plain": [
       "<Figure size 432x288 with 1 Axes>"
      ]
     },
     "metadata": {
      "needs_background": "light"
     },
     "output_type": "display_data"
    }
   ],
   "source": [
    "plt.scatter(df['Sales_in_thousands'], df['Price_in_thousands'], \n",
    "            color=df['Vehicle_type'].map({'Passenger': 'green', 'Car': 'blue'})\n",
    "            );\n",
    "plt.title('Соотношение между ценами на автомобили и количеством их продаж')\n",
    "plt.xlabel('Число продаж (в тысячах)')\n",
    "plt.ylabel('Цена (в тысячах)')"
   ]
  },
  {
   "cell_type": "code",
   "execution_count": 13,
   "id": "4819d907",
   "metadata": {},
   "outputs": [
    {
     "data": {
      "text/plain": [
       "Text(0.5, 1.0, 'Корреляция всех данных')"
      ]
     },
     "execution_count": 13,
     "metadata": {},
     "output_type": "execute_result"
    },
    {
     "data": {
      "image/png": "[encoded data removed]",
      "text/plain": [
       "<Figure size 432x288 with 2 Axes>"
      ]
     },
     "metadata": {
      "needs_background": "light"
     },
     "output_type": "display_data"
    }
   ],
   "source": [
    "sns.heatmap(df.corr()).set_title('Корреляция всех данных')"
   ]
  },
  {
   "cell_type": "code",
   "execution_count": 14,
   "id": "78acabcd",
   "metadata": {},
   "outputs": [
    {
     "data": {
      "text/plain": [
       "Text(0.5, 1.0, 'Соотношение между типом двигателя и количеством лошадиных сил')"
      ]
     },
     "execution_count": 14,
     "metadata": {},
     "output_type": "execute_result"
    },
    {
     "data": {
      "image/png": "[encoded data removed]",
      "text/plain": [
       "<Figure size 432x288 with 1 Axes>"
      ]
     },
     "metadata": {
      "needs_background": "light"
     },
     "output_type": "display_data"
    }
   ],
   "source": [
    "sns.boxplot(x ='Vehicle_type', y ='Horsepower', data = df.loc[df['Horsepower']<df['Horsepower'].quantile(0.95)]).set_title('Соотношение между типом двигателя и количеством лошадиных сил')"
   ]
  },
  {
   "cell_type": "code",
   "execution_count": 31,
   "id": "768a4225",
   "metadata": {},
   "outputs": [
    {
     "data": {
      "text/plain": [
       "Text(0.5, 1.0, 'Производители самых мощных двигателей')"
      ]
     },
     "execution_count": 31,
     "metadata": {},
     "output_type": "execute_result"
    },
    {
     "data": {
      "image/png": "[encoded data removed]",
      "text/plain": [
       "<Figure size 1080x576 with 1 Axes>"
      ]
     },
     "metadata": {},
     "output_type": "display_data"
    }
   ],
   "source": [
    "sns.set(rc={'figure.figsize':(15,8)})\n",
    "sns.countplot(x='Manufacturer',hue='Vehicle_type',data = df[(df['Horsepower'] >= 200) & (df['Power_perf_factor'] > 100)]).set_title('Производители самых мощных двигателей')"
   ]
  }
 ],
 "metadata": {
  "kernelspec": {
   "display_name": "Python 3 (ipykernel)",
   "language": "python",
   "name": "python3"
  },
  "language_info": {
   "codemirror_mode": {
    "name": "ipython",
    "version": 3
   },
   "file_extension": ".py",
   "mimetype": "text/x-python",
   "name": "python",
   "nbconvert_exporter": "python",
   "pygments_lexer": "ipython3",
   "version": "3.9.5"
  }
 },
 "nbformat": 4,
 "nbformat_minor": 5
}
