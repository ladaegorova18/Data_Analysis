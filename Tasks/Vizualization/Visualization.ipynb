{
 "cells": [
  {
   "cell_type": "markdown",
   "id": "2b5088df",
   "metadata": {},
   "source": [
    "## Источники для вдохновения\n",
    "\n",
    "- https://matplotlib.org/stable/gallery/index.html\n",
    "- https://seaborn.pydata.org/\n",
    "- https://pandas.pydata.org/docs/user_guide/visualization.html"
   ]
  },
  {
   "cell_type": "code",
   "execution_count": 4,
   "id": "55483234",
   "metadata": {},
   "outputs": [],
   "source": [
    "import pandas as pd\n",
    "from matplotlib import pyplot as plt\n",
    "import seaborn as sns\n",
    "import numpy as np\n",
    "import warnings\n",
    "warnings.filterwarnings('ignore')\n",
    "from jupyterthemes import jtplot\n"
   ]
  },
  {
   "cell_type": "code",
   "execution_count": 9,
   "id": "cfe5c02e",
   "metadata": {},
   "outputs": [],
   "source": [
    "df = pd.read_csv('credit_train.csv')"
   ]
  },
  {
   "cell_type": "code",
   "execution_count": 10,
   "id": "fef0ebb9",
   "metadata": {
    "scrolled": true
   },
   "outputs": [
    {
     "data": {
      "text/html": [
       "<div>\n",
       "<style scoped>\n",
       "    .dataframe tbody tr th:only-of-type {\n",
       "        vertical-align: middle;\n",
       "    }\n",
       "\n",
       "    .dataframe tbody tr th {\n",
       "        vertical-align: top;\n",
       "    }\n",
       "\n",
       "    .dataframe thead th {\n",
       "        text-align: right;\n",
       "    }\n",
       "</style>\n",
       "<table border=\"1\" class=\"dataframe\">\n",
       "  <thead>\n",
       "    <tr style=\"text-align: right;\">\n",
       "      <th></th>\n",
       "      <th>Loan ID</th>\n",
       "      <th>Customer ID</th>\n",
       "      <th>Loan Status</th>\n",
       "      <th>Current Loan Amount</th>\n",
       "      <th>Term</th>\n",
       "      <th>Credit Score</th>\n",
       "      <th>Annual Income</th>\n",
       "      <th>Years in current job</th>\n",
       "      <th>Home Ownership</th>\n",
       "      <th>Purpose</th>\n",
       "      <th>Monthly Debt</th>\n",
       "      <th>Years of Credit History</th>\n",
       "      <th>Months since last delinquent</th>\n",
       "      <th>Number of Open Accounts</th>\n",
       "      <th>Number of Credit Problems</th>\n",
       "      <th>Current Credit Balance</th>\n",
       "      <th>Maximum Open Credit</th>\n",
       "      <th>Bankruptcies</th>\n",
       "      <th>Tax Liens</th>\n",
       "    </tr>\n",
       "  </thead>\n",
       "  <tbody>\n",
       "    <tr>\n",
       "      <th>0</th>\n",
       "      <td>14dd8831-6af5-400b-83ec-68e61888a048</td>\n",
       "      <td>981165ec-3274-42f5-a3b4-d104041a9ca9</td>\n",
       "      <td>Fully Paid</td>\n",
       "      <td>445412.0</td>\n",
       "      <td>Short Term</td>\n",
       "      <td>709.0</td>\n",
       "      <td>1167493.0</td>\n",
       "      <td>8 years</td>\n",
       "      <td>Home Mortgage</td>\n",
       "      <td>Home Improvements</td>\n",
       "      <td>5214.74</td>\n",
       "      <td>17.2</td>\n",
       "      <td>NaN</td>\n",
       "      <td>6.0</td>\n",
       "      <td>1.0</td>\n",
       "      <td>228190.0</td>\n",
       "      <td>416746.0</td>\n",
       "      <td>1.0</td>\n",
       "      <td>0.0</td>\n",
       "    </tr>\n",
       "    <tr>\n",
       "      <th>1</th>\n",
       "      <td>4771cc26-131a-45db-b5aa-537ea4ba5342</td>\n",
       "      <td>2de017a3-2e01-49cb-a581-08169e83be29</td>\n",
       "      <td>Fully Paid</td>\n",
       "      <td>262328.0</td>\n",
       "      <td>Short Term</td>\n",
       "      <td>NaN</td>\n",
       "      <td>NaN</td>\n",
       "      <td>10+ years</td>\n",
       "      <td>Home Mortgage</td>\n",
       "      <td>Debt Consolidation</td>\n",
       "      <td>33295.98</td>\n",
       "      <td>21.1</td>\n",
       "      <td>8.0</td>\n",
       "      <td>35.0</td>\n",
       "      <td>0.0</td>\n",
       "      <td>229976.0</td>\n",
       "      <td>850784.0</td>\n",
       "      <td>0.0</td>\n",
       "      <td>0.0</td>\n",
       "    </tr>\n",
       "    <tr>\n",
       "      <th>2</th>\n",
       "      <td>4eed4e6a-aa2f-4c91-8651-ce984ee8fb26</td>\n",
       "      <td>5efb2b2b-bf11-4dfd-a572-3761a2694725</td>\n",
       "      <td>Fully Paid</td>\n",
       "      <td>99999999.0</td>\n",
       "      <td>Short Term</td>\n",
       "      <td>741.0</td>\n",
       "      <td>2231892.0</td>\n",
       "      <td>8 years</td>\n",
       "      <td>Own Home</td>\n",
       "      <td>Debt Consolidation</td>\n",
       "      <td>29200.53</td>\n",
       "      <td>14.9</td>\n",
       "      <td>29.0</td>\n",
       "      <td>18.0</td>\n",
       "      <td>1.0</td>\n",
       "      <td>297996.0</td>\n",
       "      <td>750090.0</td>\n",
       "      <td>0.0</td>\n",
       "      <td>0.0</td>\n",
       "    </tr>\n",
       "    <tr>\n",
       "      <th>3</th>\n",
       "      <td>77598f7b-32e7-4e3b-a6e5-06ba0d98fe8a</td>\n",
       "      <td>e777faab-98ae-45af-9a86-7ce5b33b1011</td>\n",
       "      <td>Fully Paid</td>\n",
       "      <td>347666.0</td>\n",
       "      <td>Long Term</td>\n",
       "      <td>721.0</td>\n",
       "      <td>806949.0</td>\n",
       "      <td>3 years</td>\n",
       "      <td>Own Home</td>\n",
       "      <td>Debt Consolidation</td>\n",
       "      <td>8741.90</td>\n",
       "      <td>12.0</td>\n",
       "      <td>NaN</td>\n",
       "      <td>9.0</td>\n",
       "      <td>0.0</td>\n",
       "      <td>256329.0</td>\n",
       "      <td>386958.0</td>\n",
       "      <td>0.0</td>\n",
       "      <td>0.0</td>\n",
       "    </tr>\n",
       "    <tr>\n",
       "      <th>4</th>\n",
       "      <td>d4062e70-befa-4995-8643-a0de73938182</td>\n",
       "      <td>81536ad9-5ccf-4eb8-befb-47a4d608658e</td>\n",
       "      <td>Fully Paid</td>\n",
       "      <td>176220.0</td>\n",
       "      <td>Short Term</td>\n",
       "      <td>NaN</td>\n",
       "      <td>NaN</td>\n",
       "      <td>5 years</td>\n",
       "      <td>Rent</td>\n",
       "      <td>Debt Consolidation</td>\n",
       "      <td>20639.70</td>\n",
       "      <td>6.1</td>\n",
       "      <td>NaN</td>\n",
       "      <td>15.0</td>\n",
       "      <td>0.0</td>\n",
       "      <td>253460.0</td>\n",
       "      <td>427174.0</td>\n",
       "      <td>0.0</td>\n",
       "      <td>0.0</td>\n",
       "    </tr>\n",
       "  </tbody>\n",
       "</table>\n",
       "</div>"
      ],
      "text/plain": [
       "                                Loan ID                           Customer ID  \\\n",
       "0  14dd8831-6af5-400b-83ec-68e61888a048  981165ec-3274-42f5-a3b4-d104041a9ca9   \n",
       "1  4771cc26-131a-45db-b5aa-537ea4ba5342  2de017a3-2e01-49cb-a581-08169e83be29   \n",
       "2  4eed4e6a-aa2f-4c91-8651-ce984ee8fb26  5efb2b2b-bf11-4dfd-a572-3761a2694725   \n",
       "3  77598f7b-32e7-4e3b-a6e5-06ba0d98fe8a  e777faab-98ae-45af-9a86-7ce5b33b1011   \n",
       "4  d4062e70-befa-4995-8643-a0de73938182  81536ad9-5ccf-4eb8-befb-47a4d608658e   \n",
       "\n",
       "  Loan Status  Current Loan Amount        Term  Credit Score  Annual Income  \\\n",
       "0  Fully Paid             445412.0  Short Term         709.0      1167493.0   \n",
       "1  Fully Paid             262328.0  Short Term           NaN            NaN   \n",
       "2  Fully Paid           99999999.0  Short Term         741.0      2231892.0   \n",
       "3  Fully Paid             347666.0   Long Term         721.0       806949.0   \n",
       "4  Fully Paid             176220.0  Short Term           NaN            NaN   \n",
       "\n",
       "  Years in current job Home Ownership             Purpose  Monthly Debt  \\\n",
       "0              8 years  Home Mortgage   Home Improvements       5214.74   \n",
       "1            10+ years  Home Mortgage  Debt Consolidation      33295.98   \n",
       "2              8 years       Own Home  Debt Consolidation      29200.53   \n",
       "3              3 years       Own Home  Debt Consolidation       8741.90   \n",
       "4              5 years           Rent  Debt Consolidation      20639.70   \n",
       "\n",
       "   Years of Credit History  Months since last delinquent  \\\n",
       "0                     17.2                           NaN   \n",
       "1                     21.1                           8.0   \n",
       "2                     14.9                          29.0   \n",
       "3                     12.0                           NaN   \n",
       "4                      6.1                           NaN   \n",
       "\n",
       "   Number of Open Accounts  Number of Credit Problems  Current Credit Balance  \\\n",
       "0                      6.0                        1.0                228190.0   \n",
       "1                     35.0                        0.0                229976.0   \n",
       "2                     18.0                        1.0                297996.0   \n",
       "3                      9.0                        0.0                256329.0   \n",
       "4                     15.0                        0.0                253460.0   \n",
       "\n",
       "   Maximum Open Credit  Bankruptcies  Tax Liens  \n",
       "0             416746.0           1.0        0.0  \n",
       "1             850784.0           0.0        0.0  \n",
       "2             750090.0           0.0        0.0  \n",
       "3             386958.0           0.0        0.0  \n",
       "4             427174.0           0.0        0.0  "
      ]
     },
     "execution_count": 10,
     "metadata": {},
     "output_type": "execute_result"
    }
   ],
   "source": [
    "df.head()"
   ]
  },
  {
   "cell_type": "markdown",
   "id": "644fe9b8",
   "metadata": {},
   "source": [
    "### Описание набора данных\n",
    "Ссылка на Kaggle: https://www.kaggle.com/datasets/zaurbegiev/my-dataset?select=credit_test.csv\n",
    "- Loan ID — номер заявки\n",
    "- Customer ID — номер заёмщика\n",
    "- Loan Status — статус кредита\n",
    "- Current Loan Amount — текущая сумма кредита\n",
    "- Term — срок\n",
    "- Credit Score — кредитный рейтинг\n",
    "- Annual Income — годовой доход\n",
    "- Years in current job — кол-во лет на текущей работе\n",
    "- Home Ownership — владеет ли домом (и каким)\n",
    "- Purpose — цель кредита\n",
    "- Monthly Debt — ежемесячный платёж\n",
    "- Years of Credit History — лет кредитной истории\n",
    "- Months since last delinquent — месяцов с последней просрочки\n",
    "- Number of Open Accounts — кол-во открытых счетов\n",
    "- Number of Credit Problems — кол-во проблем с кредитом\n",
    "- Current Credit Balance — текущий кредитный баланс\n",
    "- Maximum Open Credit — максимальный открытый кредит\n",
    "- Bankruptcies — банкротств\n",
    "- Tax Liens — налоговый залог"
   ]
  },
  {
   "cell_type": "code",
   "execution_count": 11,
   "id": "5778d8f7",
   "metadata": {},
   "outputs": [],
   "source": [
    "#df.shape()"
   ]
  },
  {
   "cell_type": "code",
   "execution_count": 12,
   "id": "9d0f51aa",
   "metadata": {},
   "outputs": [
    {
     "name": "stdout",
     "output_type": "stream",
     "text": [
      "<class 'pandas.core.frame.DataFrame'>\n",
      "RangeIndex: 100514 entries, 0 to 100513\n",
      "Data columns (total 19 columns):\n",
      " #   Column                        Non-Null Count   Dtype  \n",
      "---  ------                        --------------   -----  \n",
      " 0   Loan ID                       100000 non-null  object \n",
      " 1   Customer ID                   100000 non-null  object \n",
      " 2   Loan Status                   100000 non-null  object \n",
      " 3   Current Loan Amount           100000 non-null  float64\n",
      " 4   Term                          100000 non-null  object \n",
      " 5   Credit Score                  80846 non-null   float64\n",
      " 6   Annual Income                 80846 non-null   float64\n",
      " 7   Years in current job          95778 non-null   object \n",
      " 8   Home Ownership                100000 non-null  object \n",
      " 9   Purpose                       100000 non-null  object \n",
      " 10  Monthly Debt                  100000 non-null  float64\n",
      " 11  Years of Credit History       100000 non-null  float64\n",
      " 12  Months since last delinquent  46859 non-null   float64\n",
      " 13  Number of Open Accounts       100000 non-null  float64\n",
      " 14  Number of Credit Problems     100000 non-null  float64\n",
      " 15  Current Credit Balance        100000 non-null  float64\n",
      " 16  Maximum Open Credit           99998 non-null   float64\n",
      " 17  Bankruptcies                  99796 non-null   float64\n",
      " 18  Tax Liens                     99990 non-null   float64\n",
      "dtypes: float64(12), object(7)\n",
      "memory usage: 14.6+ MB\n"
     ]
    }
   ],
   "source": [
    "df.info()\n",
    "#Credit Score и Annual Income"
   ]
  },
  {
   "cell_type": "code",
   "execution_count": 7,
   "id": "ff7952b6",
   "metadata": {},
   "outputs": [],
   "source": [
    "df.dropna(inplace=True,subset=['Annual Income','Credit Score']) #дроп строк\n",
    "df.reset_index(inplace=True)"
   ]
  },
  {
   "cell_type": "code",
   "execution_count": 13,
   "id": "0f0a04da",
   "metadata": {},
   "outputs": [
    {
     "name": "stdout",
     "output_type": "stream",
     "text": [
      "<class 'pandas.core.frame.DataFrame'>\n",
      "RangeIndex: 100514 entries, 0 to 100513\n",
      "Data columns (total 19 columns):\n",
      " #   Column                        Non-Null Count   Dtype  \n",
      "---  ------                        --------------   -----  \n",
      " 0   Loan ID                       100000 non-null  string \n",
      " 1   Customer ID                   100000 non-null  string \n",
      " 2   Loan Status                   100000 non-null  string \n",
      " 3   Current Loan Amount           100000 non-null  Int64  \n",
      " 4   Term                          100000 non-null  string \n",
      " 5   Credit Score                  80846 non-null   Int64  \n",
      " 6   Annual Income                 80846 non-null   Int64  \n",
      " 7   Years in current job          95778 non-null   string \n",
      " 8   Home Ownership                100000 non-null  string \n",
      " 9   Purpose                       100000 non-null  string \n",
      " 10  Monthly Debt                  100000 non-null  Float64\n",
      " 11  Years of Credit History       100000 non-null  Float64\n",
      " 12  Months since last delinquent  46859 non-null   Int64  \n",
      " 13  Number of Open Accounts       100000 non-null  Int64  \n",
      " 14  Number of Credit Problems     100000 non-null  Int64  \n",
      " 15  Current Credit Balance        100000 non-null  Int64  \n",
      " 16  Maximum Open Credit           99998 non-null   Int64  \n",
      " 17  Bankruptcies                  99796 non-null   Int64  \n",
      " 18  Tax Liens                     99990 non-null   Int64  \n",
      "dtypes: Float64(2), Int64(10), string(7)\n",
      "memory usage: 15.7 MB\n"
     ]
    }
   ],
   "source": [
    "df = df.convert_dtypes() #меняем тип колонок\n",
    "df.info()"
   ]
  },
  {
   "cell_type": "code",
   "execution_count": 21,
   "id": "6777ed6f",
   "metadata": {},
   "outputs": [
    {
     "ename": "AttributeError",
     "evalue": "'Styler' object has no attribute 'style'",
     "output_type": "error",
     "traceback": [
      "\u001b[1;31m---------------------------------------------\u001b[0m",
      "\u001b[1;31mAttributeError\u001b[0mTraceback (most recent call last)",
      "Input \u001b[1;32mIn [21]\u001b[0m, in \u001b[0;36m<cell line: 4>\u001b[1;34m()\u001b[0m\n\u001b[0;32m      1\u001b[0m \u001b[38;5;66;03m#df = df.style.set_properties(**{\u001b[39;00m\n\u001b[0;32m      2\u001b[0m \u001b[38;5;66;03m#    'font-size': '20pt',\u001b[39;00m\n\u001b[0;32m      3\u001b[0m \u001b[38;5;66;03m#})\u001b[39;00m\n\u001b[1;32m----> 4\u001b[0m df \u001b[38;5;241m=\u001b[39m \u001b[43mdf\u001b[49m\u001b[38;5;241;43m.\u001b[39;49m\u001b[43mstyle\u001b[49m\u001b[38;5;241m.\u001b[39mapplymap(\u001b[38;5;124m'\u001b[39m\u001b[38;5;124mfont-size: 20pt\u001b[39m\u001b[38;5;124m'\u001b[39m)\n\u001b[0;32m      5\u001b[0m df\n",
      "\u001b[1;31mAttributeError\u001b[0m: 'Styler' object has no attribute 'style'"
     ]
    }
   ],
   "source": [
    "#df = df.style.set_properties(**{\n",
    "#    'font-size': '20pt',\n",
    "#})\n",
    "#df = df.style.applymap('font-size: 20pt')\n",
    "#df"
   ]
  },
  {
   "cell_type": "code",
   "execution_count": 9,
   "id": "4ca385ee",
   "metadata": {},
   "outputs": [
    {
     "data": {
      "text/html": [
       "<div>\n",
       "<style scoped>\n",
       "    .dataframe tbody tr th:only-of-type {\n",
       "        vertical-align: middle;\n",
       "    }\n",
       "\n",
       "    .dataframe tbody tr th {\n",
       "        vertical-align: top;\n",
       "    }\n",
       "\n",
       "    .dataframe thead th {\n",
       "        text-align: right;\n",
       "    }\n",
       "</style>\n",
       "<table border=\"1\" class=\"dataframe\">\n",
       "  <thead>\n",
       "    <tr style=\"text-align: right;\">\n",
       "      <th></th>\n",
       "      <th>index</th>\n",
       "      <th>Current Loan Amount</th>\n",
       "      <th>Credit Score</th>\n",
       "      <th>Annual Income</th>\n",
       "      <th>Monthly Debt</th>\n",
       "      <th>Years of Credit History</th>\n",
       "      <th>Months since last delinquent</th>\n",
       "      <th>Number of Open Accounts</th>\n",
       "      <th>Number of Credit Problems</th>\n",
       "      <th>Current Credit Balance</th>\n",
       "      <th>Maximum Open Credit</th>\n",
       "      <th>Bankruptcies</th>\n",
       "      <th>Tax Liens</th>\n",
       "    </tr>\n",
       "  </thead>\n",
       "  <tbody>\n",
       "    <tr>\n",
       "      <th>count</th>\n",
       "      <td>80846.000</td>\n",
       "      <td>8.085e+04</td>\n",
       "      <td>80846.000</td>\n",
       "      <td>8.085e+04</td>\n",
       "      <td>80846.000</td>\n",
       "      <td>80846.000</td>\n",
       "      <td>80845.000</td>\n",
       "      <td>80846.000</td>\n",
       "      <td>80846.000</td>\n",
       "      <td>8.085e+04</td>\n",
       "      <td>8.085e+04</td>\n",
       "      <td>80846.000</td>\n",
       "      <td>80846.000</td>\n",
       "    </tr>\n",
       "    <tr>\n",
       "      <th>mean</th>\n",
       "      <td>50036.172</td>\n",
       "      <td>1.447e+07</td>\n",
       "      <td>1076.456</td>\n",
       "      <td>1.378e+06</td>\n",
       "      <td>18510.579</td>\n",
       "      <td>18.184</td>\n",
       "      <td>34.939</td>\n",
       "      <td>11.143</td>\n",
       "      <td>0.170</td>\n",
       "      <td>2.951e+05</td>\n",
       "      <td>7.352e+05</td>\n",
       "      <td>0.119</td>\n",
       "      <td>0.030</td>\n",
       "    </tr>\n",
       "    <tr>\n",
       "      <th>std</th>\n",
       "      <td>28851.614</td>\n",
       "      <td>3.480e+07</td>\n",
       "      <td>1475.404</td>\n",
       "      <td>1.081e+06</td>\n",
       "      <td>12233.910</td>\n",
       "      <td>7.006</td>\n",
       "      <td>21.985</td>\n",
       "      <td>5.029</td>\n",
       "      <td>0.488</td>\n",
       "      <td>3.817e+05</td>\n",
       "      <td>6.890e+06</td>\n",
       "      <td>0.354</td>\n",
       "      <td>0.265</td>\n",
       "    </tr>\n",
       "    <tr>\n",
       "      <th>min</th>\n",
       "      <td>0.000</td>\n",
       "      <td>1.124e+04</td>\n",
       "      <td>585.000</td>\n",
       "      <td>7.663e+04</td>\n",
       "      <td>0.000</td>\n",
       "      <td>3.700</td>\n",
       "      <td>0.000</td>\n",
       "      <td>1.000</td>\n",
       "      <td>0.000</td>\n",
       "      <td>0.000e+00</td>\n",
       "      <td>0.000e+00</td>\n",
       "      <td>0.000</td>\n",
       "      <td>0.000</td>\n",
       "    </tr>\n",
       "    <tr>\n",
       "      <th>25%</th>\n",
       "      <td>25097.250</td>\n",
       "      <td>1.865e+05</td>\n",
       "      <td>705.000</td>\n",
       "      <td>8.488e+05</td>\n",
       "      <td>10244.040</td>\n",
       "      <td>13.500</td>\n",
       "      <td>16.000</td>\n",
       "      <td>8.000</td>\n",
       "      <td>0.000</td>\n",
       "      <td>1.126e+05</td>\n",
       "      <td>2.719e+05</td>\n",
       "      <td>0.000</td>\n",
       "      <td>0.000</td>\n",
       "    </tr>\n",
       "    <tr>\n",
       "      <th>50%</th>\n",
       "      <td>50046.500</td>\n",
       "      <td>3.247e+05</td>\n",
       "      <td>724.000</td>\n",
       "      <td>1.174e+06</td>\n",
       "      <td>16256.115</td>\n",
       "      <td>16.900</td>\n",
       "      <td>32.000</td>\n",
       "      <td>10.000</td>\n",
       "      <td>0.000</td>\n",
       "      <td>2.104e+05</td>\n",
       "      <td>4.664e+05</td>\n",
       "      <td>0.000</td>\n",
       "      <td>0.000</td>\n",
       "    </tr>\n",
       "    <tr>\n",
       "      <th>75%</th>\n",
       "      <td>74989.500</td>\n",
       "      <td>5.496e+05</td>\n",
       "      <td>741.000</td>\n",
       "      <td>1.651e+06</td>\n",
       "      <td>24050.865</td>\n",
       "      <td>21.700</td>\n",
       "      <td>51.000</td>\n",
       "      <td>14.000</td>\n",
       "      <td>0.000</td>\n",
       "      <td>3.682e+05</td>\n",
       "      <td>7.800e+05</td>\n",
       "      <td>0.000</td>\n",
       "      <td>0.000</td>\n",
       "    </tr>\n",
       "    <tr>\n",
       "      <th>max</th>\n",
       "      <td>99999.000</td>\n",
       "      <td>1.000e+08</td>\n",
       "      <td>7510.000</td>\n",
       "      <td>1.656e+08</td>\n",
       "      <td>435843.280</td>\n",
       "      <td>70.500</td>\n",
       "      <td>176.000</td>\n",
       "      <td>76.000</td>\n",
       "      <td>15.000</td>\n",
       "      <td>3.288e+07</td>\n",
       "      <td>1.540e+09</td>\n",
       "      <td>7.000</td>\n",
       "      <td>15.000</td>\n",
       "    </tr>\n",
       "  </tbody>\n",
       "</table>\n",
       "</div>"
      ],
      "text/plain": [
       "           index  Current Loan Amount  Credit Score  Annual Income  \\\n",
       "count  80846.000            8.085e+04     80846.000      8.085e+04   \n",
       "mean   50036.172            1.447e+07      1076.456      1.378e+06   \n",
       "std    28851.614            3.480e+07      1475.404      1.081e+06   \n",
       "min        0.000            1.124e+04       585.000      7.663e+04   \n",
       "25%    25097.250            1.865e+05       705.000      8.488e+05   \n",
       "50%    50046.500            3.247e+05       724.000      1.174e+06   \n",
       "75%    74989.500            5.496e+05       741.000      1.651e+06   \n",
       "max    99999.000            1.000e+08      7510.000      1.656e+08   \n",
       "\n",
       "       Monthly Debt  Years of Credit History  Months since last delinquent  \\\n",
       "count     80846.000                80846.000                     80845.000   \n",
       "mean      18510.579                   18.184                        34.939   \n",
       "std       12233.910                    7.006                        21.985   \n",
       "min           0.000                    3.700                         0.000   \n",
       "25%       10244.040                   13.500                        16.000   \n",
       "50%       16256.115                   16.900                        32.000   \n",
       "75%       24050.865                   21.700                        51.000   \n",
       "max      435843.280                   70.500                       176.000   \n",
       "\n",
       "       Number of Open Accounts  Number of Credit Problems  \\\n",
       "count                80846.000                  80846.000   \n",
       "mean                    11.143                      0.170   \n",
       "std                      5.029                      0.488   \n",
       "min                      1.000                      0.000   \n",
       "25%                      8.000                      0.000   \n",
       "50%                     10.000                      0.000   \n",
       "75%                     14.000                      0.000   \n",
       "max                     76.000                     15.000   \n",
       "\n",
       "       Current Credit Balance  Maximum Open Credit  Bankruptcies  Tax Liens  \n",
       "count               8.085e+04            8.085e+04     80846.000  80846.000  \n",
       "mean                2.951e+05            7.352e+05         0.119      0.030  \n",
       "std                 3.817e+05            6.890e+06         0.354      0.265  \n",
       "min                 0.000e+00            0.000e+00         0.000      0.000  \n",
       "25%                 1.126e+05            2.719e+05         0.000      0.000  \n",
       "50%                 2.104e+05            4.664e+05         0.000      0.000  \n",
       "75%                 3.682e+05            7.800e+05         0.000      0.000  \n",
       "max                 3.288e+07            1.540e+09         7.000     15.000  "
      ]
     },
     "execution_count": 9,
     "metadata": {},
     "output_type": "execute_result"
    }
   ],
   "source": [
    "pd.set_option('display.precision',3)\n",
    "df.describe() # проверить наличие непонятных значений"
   ]
  },
  {
   "cell_type": "markdown",
   "id": "3a54b757",
   "metadata": {},
   "source": [
    "### Зачем нужна визуализация?\n",
    "\n",
    "- Интуитивное понимание данных\n",
    "- Обнаружение паттернов/зависимостей в данных\n",
    "- Построение гипотез\n",
    "\n",
    "\n",
    "- Создание отчётности и мониторинга процесса\n",
    "- Подготовка презентаций для заказчиков/работодателей"
   ]
  },
  {
   "cell_type": "markdown",
   "id": "a1757422",
   "metadata": {},
   "source": [
    "### Пример\n",
    "\n",
    "Ваш одногруппник создал приложение и разместил его в Google Play, Apple Store, etc. После чего выступает на вашей общей паре и говорит, что оценка его приложения 4/5. Какие уточняющие вопросы вы бы могли задать, чтобы понять нужно ли хвалить одногруппника?)"
   ]
  },
  {
   "cell_type": "markdown",
   "id": "0397815f",
   "metadata": {},
   "source": [
    ".\n",
    "\n",
    "\n",
    ".\n",
    "\n",
    "\n",
    ".\n",
    "\n",
    "\n",
    ".\n",
    "\n",
    "\n",
    ".\n",
    "\n",
    "\n",
    ".\n",
    "\n",
    "\n",
    ".\n",
    "\n",
    "\n",
    ".\n",
    "\n",
    "\n",
    ".\n",
    ".\n",
    ".\n",
    "\n",
    "\n",
    "\n",
    "\n",
    "\n",
    "\n"
   ]
  },
  {
   "cell_type": "markdown",
   "id": "5b8b3004",
   "metadata": {},
   "source": [
    "### Что важно оценить?\n",
    "\n",
    "- Сколько пользователей оценило приложение?\n",
    "- Кто эти люди?\n",
    "- Репрезентативна ли эта оценка?\n",
    "- Насколько дозрела оценка (Стало лучши или хуже)?"
   ]
  },
  {
   "cell_type": "markdown",
   "id": "b9cdb071",
   "metadata": {},
   "source": [
    "### Для категориальных/бинарных признаков "
   ]
  },
  {
   "cell_type": "code",
   "execution_count": 10,
   "id": "e19d499f",
   "metadata": {},
   "outputs": [
    {
     "name": "stdout",
     "output_type": "stream",
     "text": [
      "Home Mortgage    39089\n",
      "Rent             34092\n",
      "Own Home          7480\n",
      "HaveMortgage       185\n",
      "Name: Home Ownership, dtype: Int64\n",
      "Home Mortgage    39274\n",
      "Rent             34092\n",
      "Own Home          7480\n",
      "Name: Home Ownership, dtype: Int64\n"
     ]
    }
   ],
   "source": [
    "print(df['Home Ownership'].value_counts())\n",
    "df.loc[df['Home Ownership']== 'HaveMortgage','Home Ownership']  = 'Home Mortgage'\n",
    "print(df['Home Ownership'].value_counts())"
   ]
  },
  {
   "cell_type": "code",
   "execution_count": 11,
   "id": "04773215",
   "metadata": {},
   "outputs": [
    {
     "data": {
      "text/plain": [
       "<AxesSubplot:xlabel='Home Ownership', ylabel='count'>"
      ]
     },
     "execution_count": 11,
     "metadata": {},
     "output_type": "execute_result"
    },
    {
     "data": {
      "image/png": "[encoded data removed]",
      "text/plain": [
       "<Figure size 576x504 with 1 Axes>"
      ]
     },
     "metadata": {},
     "output_type": "display_data"
    }
   ],
   "source": [
    "jtplot.style(theme='onedork', context='notebook', ticks=True, grid=False)\n",
    "sns.countplot(df['Home Ownership'])"
   ]
  },
  {
   "cell_type": "code",
   "execution_count": 12,
   "id": "245cc40d",
   "metadata": {},
   "outputs": [
    {
     "data": {
      "text/plain": [
       "([<matplotlib.patches.Wedge at 0x22768252c40>,\n",
       "  <matplotlib.patches.Wedge at 0x227682643a0>,\n",
       "  <matplotlib.patches.Wedge at 0x22768264ac0>],\n",
       " [Text(0.049097490037622246, 1.098903743042131, 'Home Mortgage'),\n",
       "  Text(-0.36197229446312895, -1.0387377234129402, 'Own Home'),\n",
       "  Text(1.0538588286687771, -0.3152484246382103, 'Rent')],\n",
       " [Text(0.026780449111430314, 0.5994020416593441, '49%'),\n",
       "  Text(-0.19743943334352484, -0.5665842127706946, '42%'),\n",
       "  Text(0.5748320883647875, -0.1719536861662965, '9%')])"
      ]
     },
     "execution_count": 12,
     "metadata": {},
     "output_type": "execute_result"
    },
    {
     "data": {
      "image/png": "[encoded data removed]",
      "text/plain": [
       "<Figure size 576x504 with 1 Axes>"
      ]
     },
     "metadata": {},
     "output_type": "display_data"
    }
   ],
   "source": [
    "plt.pie(df['Home Ownership'].value_counts(), labels = df['Home Ownership'].unique(), autopct='%.0f%%')"
   ]
  },
  {
   "cell_type": "code",
   "execution_count": 13,
   "id": "69702c51",
   "metadata": {},
   "outputs": [
    {
     "data": {
      "text/plain": [
       "10+ years    26423\n",
       "2 years       7694\n",
       "3 years       6897\n",
       "< 1 year      6864\n",
       "5 years       5736\n",
       "1 year        5412\n",
       "4 years       5138\n",
       "6 years       4793\n",
       "7 years       4707\n",
       "8 years       3877\n",
       "9 years       3305\n",
       "Name: Years in current job, dtype: Int64"
      ]
     },
     "execution_count": 13,
     "metadata": {},
     "output_type": "execute_result"
    }
   ],
   "source": [
    "#Распределение признака по частоте\n",
    "df['Years in current job'].value_counts()"
   ]
  },
  {
   "cell_type": "code",
   "execution_count": 14,
   "id": "2158670a",
   "metadata": {},
   "outputs": [
    {
     "data": {
      "text/plain": [
       "Index(['10+ years', '2 years', '3 years'], dtype='string')"
      ]
     },
     "execution_count": 14,
     "metadata": {},
     "output_type": "execute_result"
    }
   ],
   "source": [
    "#Если возникла необходимость в проверки нескольких значений\n",
    "df['Years in current job'].value_counts().head(3).index"
   ]
  },
  {
   "cell_type": "code",
   "execution_count": 15,
   "id": "86370e0d",
   "metadata": {},
   "outputs": [
    {
     "data": {
      "text/plain": [
       "<AxesSubplot:xlabel='Years in current job', ylabel='count'>"
      ]
     },
     "execution_count": 15,
     "metadata": {},
     "output_type": "execute_result"
    },
    {
     "data": {
      "image/png": "[encoded data removed]",
      "text/plain": [
       "<Figure size 576x504 with 1 Axes>"
      ]
     },
     "metadata": {},
     "output_type": "display_data"
    }
   ],
   "source": [
    "#Отображаем топ 3 признака по кол-ву\n",
    "sns.countplot(df[df['Years in current job'].isin(df['Years in current job'].value_counts().head(3).index)]['Years in current job'])"
   ]
  },
  {
   "cell_type": "code",
   "execution_count": 16,
   "id": "0422b7f2",
   "metadata": {},
   "outputs": [
    {
     "data": {
      "text/plain": [
       "<AxesSubplot:xlabel='Term', ylabel='count'>"
      ]
     },
     "execution_count": 16,
     "metadata": {},
     "output_type": "execute_result"
    },
    {
     "data": {
      "image/png": "[encoded data removed]",
      "text/plain": [
       "<Figure size 576x504 with 1 Axes>"
      ]
     },
     "metadata": {},
     "output_type": "display_data"
    }
   ],
   "source": [
    "# Для бинарных также \n",
    "sns.countplot(df['Term'])"
   ]
  },
  {
   "cell_type": "markdown",
   "id": "526597c0",
   "metadata": {},
   "source": [
    "### Для колличественных признаков"
   ]
  },
  {
   "cell_type": "code",
   "execution_count": 17,
   "id": "ce4a2684",
   "metadata": {
    "scrolled": false
   },
   "outputs": [
    {
     "data": {
      "text/plain": [
       "<AxesSubplot:xlabel='Credit Score', ylabel='Density'>"
      ]
     },
     "execution_count": 17,
     "metadata": {},
     "output_type": "execute_result"
    },
    {
     "data": {
      "image/png": "[encoded data removed]",
      "text/plain": [
       "<Figure size 576x504 with 1 Axes>"
      ]
     },
     "metadata": {},
     "output_type": "display_data"
    }
   ],
   "source": [
    "sns.distplot(df['Credit Score']) # распределение данных"
   ]
  },
  {
   "cell_type": "code",
   "execution_count": 18,
   "id": "d976d9ed",
   "metadata": {
    "scrolled": false
   },
   "outputs": [
    {
     "data": {
      "text/plain": [
       "<AxesSubplot:>"
      ]
     },
     "execution_count": 18,
     "metadata": {},
     "output_type": "execute_result"
    },
    {
     "data": {
      "image/png": "[encoded data removed]",
      "text/plain": [
       "<Figure size 576x504 with 1 Axes>"
      ]
     },
     "metadata": {},
     "output_type": "display_data"
    }
   ],
   "source": [
    "df.loc[df['Credit Score']<2000,'Credit Score'].hist()  # распределение данных"
   ]
  },
  {
   "cell_type": "code",
   "execution_count": 19,
   "id": "be65f705",
   "metadata": {
    "scrolled": true
   },
   "outputs": [
    {
     "data": {
      "text/plain": [
       "<AxesSubplot:xlabel='Credit Score'>"
      ]
     },
     "execution_count": 19,
     "metadata": {},
     "output_type": "execute_result"
    },
    {
     "data": {
      "image/png": "[encoded data removed]",
      "text/plain": [
       "<Figure size 576x504 with 1 Axes>"
      ]
     },
     "metadata": {},
     "output_type": "display_data"
    }
   ],
   "source": [
    "sns.boxplot(df.loc[(df['Credit Score']<2000) & (df['Credit Score']>650),'Credit Score'])"
   ]
  },
  {
   "cell_type": "markdown",
   "id": "a4a0bf04",
   "metadata": {},
   "source": [
    "Источник https://towardsdatascience.com/understanding-boxplots-5e2df7bcbd51\n",
    "![jupyter](https://miro.medium.com/max/1400/1*2c21SkzJMf3frPXPAR_gZA.png)"
   ]
  },
  {
   "cell_type": "code",
   "execution_count": 20,
   "id": "0b2e5f80",
   "metadata": {},
   "outputs": [
    {
     "data": {
      "text/plain": [
       "array([[<AxesSubplot:title={'center':'index'}>,\n",
       "        <AxesSubplot:title={'center':'Current Loan Amount'}>,\n",
       "        <AxesSubplot:title={'center':'Credit Score'}>,\n",
       "        <AxesSubplot:title={'center':'Annual Income'}>],\n",
       "       [<AxesSubplot:title={'center':'Monthly Debt'}>,\n",
       "        <AxesSubplot:title={'center':'Years of Credit History'}>,\n",
       "        <AxesSubplot:title={'center':'Months since last delinquent'}>,\n",
       "        <AxesSubplot:title={'center':'Number of Open Accounts'}>],\n",
       "       [<AxesSubplot:title={'center':'Number of Credit Problems'}>,\n",
       "        <AxesSubplot:title={'center':'Current Credit Balance'}>,\n",
       "        <AxesSubplot:title={'center':'Maximum Open Credit'}>,\n",
       "        <AxesSubplot:title={'center':'Bankruptcies'}>],\n",
       "       [<AxesSubplot:title={'center':'Tax Liens'}>, <AxesSubplot:>,\n",
       "        <AxesSubplot:>, <AxesSubplot:>]], dtype=object)"
      ]
     },
     "execution_count": 20,
     "metadata": {},
     "output_type": "execute_result"
    },
    {
     "data": {
      "image/png": "[encoded data removed]",
      "text/plain": [
       "<Figure size 1440x1440 with 16 Axes>"
      ]
     },
     "metadata": {},
     "output_type": "display_data"
    }
   ],
   "source": [
    "#Гистограмма по всем колличественных признакам\n",
    "df.hist(figsize =(20,20))"
   ]
  },
  {
   "cell_type": "markdown",
   "id": "d2ee16ec",
   "metadata": {},
   "source": [
    "- Временное — гистограммы, графики\n",
    "- Частотное сравнение (концентрация, распредление) —  гистограммы, графики\n",
    "- Корреляционное — линейчатая диаграмма, точечная диаграмма"
   ]
  },
  {
   "cell_type": "markdown",
   "id": "eae6b8f8",
   "metadata": {},
   "source": [
    "## Взаимодействие признаков\n",
    "\n",
    "### количественный — количественный"
   ]
  },
  {
   "cell_type": "code",
   "execution_count": null,
   "id": "cb3f2d96",
   "metadata": {},
   "outputs": [],
   "source": [
    "# Диаграмма рассеивания\n",
    "sns.pairplot(df)"
   ]
  },
  {
   "cell_type": "code",
   "execution_count": null,
   "id": "52b2781a",
   "metadata": {},
   "outputs": [],
   "source": [
    "plt.scatter(df['Annual Income']/12/1000, df['Monthly Debt']/1000);\n",
    "plt.xlabel('Месячный доход в тысячах');\n",
    "plt.ylabel('Месячный взнос в тысячах');"
   ]
  },
  {
   "cell_type": "code",
   "execution_count": null,
   "id": "e0d7993b",
   "metadata": {},
   "outputs": [],
   "source": [
    "df['Loan Status'].value_counts()"
   ]
  },
  {
   "cell_type": "code",
   "execution_count": null,
   "id": "7c34a24e",
   "metadata": {},
   "outputs": [],
   "source": [
    "df['Loan Status'].map({'Fully Paid': 'blue', 'Charged Off': 'orange'}).head()"
   ]
  },
  {
   "cell_type": "code",
   "execution_count": null,
   "id": "4bd07078",
   "metadata": {},
   "outputs": [],
   "source": [
    "plt.scatter(df['Annual Income']/12/1000, df['Monthly Debt']/1000, \n",
    "            color=df['Loan Status'].map({'Fully Paid': 'blue', 'Charged Off': 'orange'})\n",
    "            );\n",
    "plt.title('Распределение месячного дохода и месячного платежа клиента')\n",
    "plt.xlabel('Месячный доход в тысячах')\n",
    "plt.ylabel('Месячный взнос в тысячах')"
   ]
  },
  {
   "cell_type": "code",
   "execution_count": null,
   "id": "364db5bb",
   "metadata": {},
   "outputs": [],
   "source": [
    "l1 =plt.scatter(df[df['Loan Status'] == 'Charged Off']['Annual Income']/12/1000,df[df['Loan Status'] == 'Charged Off']['Monthly Debt']/1000,color='orange')\n",
    "plt.xlabel('Месячный доход в тысячах')\n",
    "plt.ylabel('Месячный взнос в тысячах')\n",
    "plt.title('Кто не выплатил?')"
   ]
  },
  {
   "cell_type": "code",
   "execution_count": null,
   "id": "6d9b49b9",
   "metadata": {},
   "outputs": [],
   "source": [
    "df.corr('spearman')"
   ]
  },
  {
   "cell_type": "code",
   "execution_count": null,
   "id": "99dccfe4",
   "metadata": {},
   "outputs": [],
   "source": [
    "sns.heatmap(df.corr())"
   ]
  },
  {
   "cell_type": "markdown",
   "id": "c12c597c",
   "metadata": {},
   "source": [
    "### количественный — категориальный"
   ]
  },
  {
   "cell_type": "code",
   "execution_count": null,
   "id": "2de734e6",
   "metadata": {},
   "outputs": [],
   "source": [
    "sns.boxplot(x ='Loan Status', y ='Annual Income', data = df.loc[df['Annual Income']<df['Annual Income'].quantile(0.95)])"
   ]
  },
  {
   "cell_type": "markdown",
   "id": "fcba81a4",
   "metadata": {},
   "source": [
    "### Также можно использовать *sns.violinplot* — Скрипичный график\n",
    "\n",
    "https://datavizcatalogue.com/RU/metody/skripicnyj_grafik.html\n",
    "\n",
    "\n",
    "<img src=\"https://datavizcatalogue.com/RU/metody/images/anatomy/SVG/skripicnyj_grafik.svg\" width=600 height=600 />\n"
   ]
  },
  {
   "cell_type": "markdown",
   "id": "6c181f0f",
   "metadata": {},
   "source": [
    "### категориальный — категориальный"
   ]
  },
  {
   "cell_type": "code",
   "execution_count": null,
   "id": "8fbd3210",
   "metadata": {},
   "outputs": [],
   "source": [
    "pd.crosstab(df['Loan Status'],df['Term'])"
   ]
  },
  {
   "cell_type": "code",
   "execution_count": null,
   "id": "d6e07ddb",
   "metadata": {},
   "outputs": [],
   "source": [
    "sns.countplot(x='Home Ownership',hue='Loan Status',data = df)"
   ]
  },
  {
   "cell_type": "markdown",
   "id": "ff6a21fd",
   "metadata": {},
   "source": [
    "# Задание\n",
    "Используя набор данных визуализировать различными способами минимум три признака, а также минимум три взаимодействия между признаками."
   ]
  },
  {
   "cell_type": "code",
   "execution_count": null,
   "id": "8142e62d",
   "metadata": {},
   "outputs": [],
   "source": [
    "df = pd.read_csv('Car_sales.csv')"
   ]
  },
  {
   "cell_type": "code",
   "execution_count": null,
   "id": "da98234b",
   "metadata": {},
   "outputs": [],
   "source": [
    "df"
   ]
  },
  {
   "cell_type": "markdown",
   "id": "9430cc68",
   "metadata": {},
   "source": [
    "# Полезные ресурсы\n",
    "\n",
    "- https://mipt-stats.gitlab.io/courses/python/09_seaborn.html — гайд от Физтех.Статистика по Seaborn\n",
    "- https://habr.com/ru/company/otus/blog/540526/ — примеры с Хабра по Seaborn\n",
    "- https://pythonru.com/biblioteki/seaborn-plot — ещё примеры\n",
    "- https://pyprog.pro/mpl/mpl_short_guide.html — гайд по Matplotlib\n",
    "- https://python-scripts.com/matplotlib — ещё по Matplotlib"
   ]
  },
  {
   "cell_type": "code",
   "execution_count": null,
   "id": "626ea50c",
   "metadata": {},
   "outputs": [],
   "source": []
  },
  {
   "cell_type": "code",
   "execution_count": null,
   "id": "ed2435da",
   "metadata": {},
   "outputs": [],
   "source": []
  }
 ],
 "metadata": {
  "kernelspec": {
   "display_name": "Python 3 (ipykernel)",
   "language": "python",
   "name": "python3"
  },
  "language_info": {
   "codemirror_mode": {
    "name": "ipython",
    "version": 3
   },
   "file_extension": ".py",
   "mimetype": "text/x-python",
   "name": "python",
   "nbconvert_exporter": "python",
   "pygments_lexer": "ipython3",
   "version": "3.9.5"
  }
 },
 "nbformat": 4,
 "nbformat_minor": 5
}
