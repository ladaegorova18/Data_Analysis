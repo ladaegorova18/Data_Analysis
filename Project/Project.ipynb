{
 "cells": [
  {
   "cell_type": "code",
   "execution_count": 1,
   "id": "05939b23",
   "metadata": {},
   "outputs": [],
   "source": [
    "from bs4 import BeautifulSoup\n",
    "import requests\n",
    "import pandas as pd\n",
    "import time\n",
    "from selenium import webdriver\n",
    "\n",
    "import random\n",
    "from matplotlib import pyplot as plt\n",
    "import numpy as np\n",
    "import seaborn as sns\n",
    "import warnings\n",
    "warnings.filterwarnings('ignore')"
   ]
  },
  {
   "cell_type": "code",
   "execution_count": 2,
   "id": "16eda1e4",
   "metadata": {},
   "outputs": [],
   "source": [
    "def getHtml(url):\n",
    "    driver = webdriver.Edge(executable_path = 'C:\\\\Users\\\\Home\\\\Documents\\\\msedgedriver.exe') # используем Selenium\n",
    "    driver.get(url)\n",
    "\n",
    "    SCROLL_PAUSE_TIME = 2\n",
    "    try:\n",
    "        \n",
    "        lenOfPage = driver.execute_script(\"window.scrollTo(0, document.body.scrollHeight);var lenOfPage=document.body.scrollHeight;return lenOfPage;\")\n",
    "        match=False\n",
    "        while(match==False):\n",
    "            lastCount = lenOfPage\n",
    "            delay = random.randint(10, 30) / 10\n",
    "            time.sleep(delay)\n",
    "            lenOfPage = driver.execute_script(\"window.scrollTo(0, document.body.scrollHeight);var lenOfPage=document.body.scrollHeight;return lenOfPage;\")\n",
    "            if lastCount==lenOfPage:\n",
    "                match=True\n",
    "        \n",
    "        \n",
    "    except Exception as e:\n",
    "        print(e)\n",
    "\n",
    "    time.sleep(1)\n",
    "    html = driver.page_source\n",
    "    soup = BeautifulSoup(html,'html.parser')\n",
    "    driver.close()\n",
    "    rows = soup.find('div', id=\"search_resultsRows\")\n",
    "    return rows"
   ]
  },
  {
   "cell_type": "code",
   "execution_count": 32,
   "id": "594a7e2e",
   "metadata": {},
   "outputs": [],
   "source": [
    "def findLabels(href):\n",
    "    labels = []\n",
    "    temp = requests.post(href)\n",
    "    soup = BeautifulSoup(temp.text, 'html.parser')\n",
    "    page = soup.find('div', class_=\"glance_tags_ctn popular_tags_ctn\")\n",
    "    i = 0\n",
    "    for label in page.find_all('a'):\n",
    "        i += 1\n",
    "        if (i > 3):\n",
    "            return labels\n",
    "        else:\n",
    "            labels.append(label.text.split('\\t\\t\\t\\t\\t\\t\\t\\t\\t\\t\\t\\t')[1])"
   ]
  },
  {
   "cell_type": "code",
   "execution_count": 46,
   "id": "647d4dc5",
   "metadata": {},
   "outputs": [],
   "source": [
    "def getData(game_type, page):\n",
    "    result = []\n",
    "    i = 0\n",
    "\n",
    "    for game in page.find_all('a'):\n",
    "\n",
    "        try:\n",
    "            title = game.find('span', class_=\"title\").text\n",
    "            price = -1\n",
    "            release_date = ''\n",
    "            rating = ''\n",
    "            review_type = ''\n",
    "            labels = ['', '', '']\n",
    "            \n",
    "            href = game.attrs.get('href')\n",
    "\n",
    "            labels = findLabels(href)\n",
    "            price = int(game.find('div', class_=\"col search_price_discount_combined responsive_secondrow\").attrs.get('data-price-final'))\n",
    "            release_date = game.find('div', class_=\"col search_released responsive_secondrow\").text\n",
    "\n",
    "            review_data = game.find('span', class_=\"search_review_summary positive\").attrs.get('data-tooltip-html').split('<br>')\n",
    "\n",
    "            review_type = review_data[0]\n",
    "            rating = review_data[1].split(' ')[0]\n",
    "\n",
    "        except Exception as e:\n",
    "            pass\n",
    "        finally:\n",
    "            result.append([title, price, game_type, release_date, review_type, rating, labels[0], labels[1], labels[2]])\n",
    "                    \n",
    "    return result"
   ]
  },
  {
   "cell_type": "markdown",
   "id": "090cb8ae",
   "metadata": {},
   "source": [
    "## Сделаем запрос по тегу \"Инди\":"
   ]
  },
  {
   "cell_type": "code",
   "execution_count": 45,
   "id": "1084db99",
   "metadata": {},
   "outputs": [],
   "source": [
    "#indie_page = getHtml('https://store.steampowered.com/search/?ignore_preferences=1&tags=492&filter=topsellers')\n",
    "indie_page = getHtml('https://store.steampowered.com/search/?sort_by=_ASC&tags=492&filter=topsellers')"
   ]
  },
  {
   "cell_type": "code",
   "execution_count": 47,
   "id": "742cc0a4",
   "metadata": {},
   "outputs": [
    {
     "ename": "TypeError",
     "evalue": "'NoneType' object is not subscriptable",
     "output_type": "error",
     "traceback": [
      "\u001b[1;31m---------------------------------------------\u001b[0m",
      "\u001b[1;31mTypeError\u001b[0m   Traceback (most recent call last)",
      "Input \u001b[1;32mIn [47]\u001b[0m, in \u001b[0;36m<cell line: 1>\u001b[1;34m()\u001b[0m\n\u001b[1;32m----> 1\u001b[0m indie_games \u001b[38;5;241m=\u001b[39m \u001b[43mgetData\u001b[49m\u001b[43m(\u001b[49m\u001b[38;5;124;43m\"\u001b[39;49m\u001b[38;5;124;43mindie\u001b[39;49m\u001b[38;5;124;43m\"\u001b[39;49m\u001b[43m,\u001b[49m\u001b[43m \u001b[49m\u001b[43mindie_page\u001b[49m\u001b[43m)\u001b[49m\n",
      "Input \u001b[1;32mIn [46]\u001b[0m, in \u001b[0;36mgetData\u001b[1;34m(game_type, page)\u001b[0m\n\u001b[0;32m     27\u001b[0m         \u001b[38;5;28;01mpass\u001b[39;00m\n\u001b[0;32m     28\u001b[0m     \u001b[38;5;28;01mfinally\u001b[39;00m:\n\u001b[1;32m---> 29\u001b[0m         result\u001b[38;5;241m.\u001b[39mappend([title, price, game_type, release_date, review_type, rating, \u001b[43mlabels\u001b[49m\u001b[43m[\u001b[49m\u001b[38;5;241;43m0\u001b[39;49m\u001b[43m]\u001b[49m, labels[\u001b[38;5;241m1\u001b[39m], labels[\u001b[38;5;241m2\u001b[39m]])\n\u001b[0;32m     31\u001b[0m \u001b[38;5;28;01mreturn\u001b[39;00m result\n",
      "\u001b[1;31mTypeError\u001b[0m: 'NoneType' object is not subscriptable"
     ]
    }
   ],
   "source": [
    "indie_games = getData(\"indie\", indie_page)"
   ]
  },
  {
   "cell_type": "markdown",
   "id": "66d1f804",
   "metadata": {},
   "source": [
    "## Затем запрос, исключающий этот тег:"
   ]
  },
  {
   "cell_type": "code",
   "execution_count": 48,
   "id": "b5ed9f23",
   "metadata": {},
   "outputs": [],
   "source": [
    "AAA_page = getHtml('https://store.steampowered.com/search/?ignore_preferences=1&untags=492&filter=topsellers')"
   ]
  },
  {
   "cell_type": "code",
   "execution_count": 49,
   "id": "258f0d5a",
   "metadata": {},
   "outputs": [
    {
     "ename": "TypeError",
     "evalue": "'NoneType' object is not subscriptable",
     "output_type": "error",
     "traceback": [
      "\u001b[1;31m---------------------------------------------\u001b[0m",
      "\u001b[1;31mTypeError\u001b[0m   Traceback (most recent call last)",
      "Input \u001b[1;32mIn [49]\u001b[0m, in \u001b[0;36m<cell line: 1>\u001b[1;34m()\u001b[0m\n\u001b[1;32m----> 1\u001b[0m AAA_games \u001b[38;5;241m=\u001b[39m \u001b[43mgetData\u001b[49m\u001b[43m(\u001b[49m\u001b[38;5;124;43m\"\u001b[39;49m\u001b[38;5;124;43mAAA\u001b[39;49m\u001b[38;5;124;43m\"\u001b[39;49m\u001b[43m,\u001b[49m\u001b[43m \u001b[49m\u001b[43mAAA_page\u001b[49m\u001b[43m)\u001b[49m\n",
      "Input \u001b[1;32mIn [46]\u001b[0m, in \u001b[0;36mgetData\u001b[1;34m(game_type, page)\u001b[0m\n\u001b[0;32m     27\u001b[0m         \u001b[38;5;28;01mpass\u001b[39;00m\n\u001b[0;32m     28\u001b[0m     \u001b[38;5;28;01mfinally\u001b[39;00m:\n\u001b[1;32m---> 29\u001b[0m         result\u001b[38;5;241m.\u001b[39mappend([title, price, game_type, release_date, review_type, rating, \u001b[43mlabels\u001b[49m\u001b[43m[\u001b[49m\u001b[38;5;241;43m0\u001b[39;49m\u001b[43m]\u001b[49m, labels[\u001b[38;5;241m1\u001b[39m], labels[\u001b[38;5;241m2\u001b[39m]])\n\u001b[0;32m     31\u001b[0m \u001b[38;5;28;01mreturn\u001b[39;00m result\n",
      "\u001b[1;31mTypeError\u001b[0m: 'NoneType' object is not subscriptable"
     ]
    }
   ],
   "source": [
    "AAA_games = getData(\"AAA\", AAA_page)"
   ]
  },
  {
   "cell_type": "markdown",
   "id": "1128b27c",
   "metadata": {},
   "source": [
    "# Сформируем таблицу в pandas"
   ]
  },
  {
   "cell_type": "code",
   "execution_count": null,
   "id": "81d36959",
   "metadata": {},
   "outputs": [],
   "source": [
    "cols = ['Название', 'Цена', 'Тип', 'Дата выхода', 'Отзывы', 'Рейтинг', 'Метки']\n",
    "\n",
    "all_games = indie_games + AAA_games\n",
    "df = pd.DataFrame(all_games, columns=cols)\n",
    "df"
   ]
  },
  {
   "cell_type": "markdown",
   "id": "0396dc88",
   "metadata": {},
   "source": [
    "## Устраним пустоты в полученных данных "
   ]
  },
  {
   "cell_type": "code",
   "execution_count": null,
   "id": "0b21f4d9",
   "metadata": {},
   "outputs": [],
   "source": [
    "df = df.convert_dtypes()\n",
    "df['Цена'] = df['Цена'].astype(float)\n",
    "df['Цена'] = df['Цена'] / 100"
   ]
  },
  {
   "cell_type": "code",
   "execution_count": null,
   "id": "0ea21223",
   "metadata": {},
   "outputs": [],
   "source": [
    "d1 = pd.to_datetime(df['Дата выхода'], format=\"%d %b, %Y\", errors='coerce')\n",
    "d2 = pd.to_datetime(df['Дата выхода'], format=\"%b %Y\", errors='coerce')\n",
    "\n",
    "df['Дата выхода'] = d1.combine_first(d2)"
   ]
  },
  {
   "cell_type": "code",
   "execution_count": null,
   "id": "b1dbb10b",
   "metadata": {},
   "outputs": [],
   "source": [
    "df[df['Рейтинг'] == ''] \n",
    "df"
   ]
  },
  {
   "cell_type": "markdown",
   "id": "231a4b69",
   "metadata": {},
   "source": [
    "## Анализируем данные"
   ]
  },
  {
   "cell_type": "markdown",
   "id": "8fbacc0c",
   "metadata": {},
   "source": [
    "### 1. Распределение по типам"
   ]
  },
  {
   "cell_type": "code",
   "execution_count": null,
   "id": "52023dda",
   "metadata": {},
   "outputs": [],
   "source": [
    "plt.pie(df['Тип'].value_counts(), labels = df['Тип'].unique(), autopct='%.0f%%')"
   ]
  },
  {
   "cell_type": "markdown",
   "id": "8074d5df",
   "metadata": {},
   "source": [
    "## 1. Цены"
   ]
  },
  {
   "cell_type": "markdown",
   "id": "a3df56fb",
   "metadata": {},
   "source": [
    "### 1.1 Средняя цена игры"
   ]
  },
  {
   "cell_type": "code",
   "execution_count": null,
   "id": "7a9103bc",
   "metadata": {},
   "outputs": [],
   "source": [
    "df[['Цена']].apply(np.median)"
   ]
  },
  {
   "cell_type": "markdown",
   "id": "147f5cbd",
   "metadata": {},
   "source": [
    "### 1.2. Зависимость между типом и ценой"
   ]
  },
  {
   "cell_type": "code",
   "execution_count": null,
   "id": "20cf53cd",
   "metadata": {},
   "outputs": [],
   "source": [
    "sns.boxplot(x ='Тип', y ='Цена', data = df.loc[df['Цена']<df['Цена'].quantile(0.95)])"
   ]
  },
  {
   "cell_type": "markdown",
   "id": "a3a4273e",
   "metadata": {},
   "source": [
    "### 1.3 Самые дорогие игры "
   ]
  },
  {
   "cell_type": "code",
   "execution_count": null,
   "id": "d6e446c3",
   "metadata": {},
   "outputs": [],
   "source": [
    "df.sort_values(by = 'Цена', ascending = False).head(20)"
   ]
  },
  {
   "cell_type": "markdown",
   "id": "515e5c93",
   "metadata": {},
   "source": [
    "## 2. Отзывы"
   ]
  },
  {
   "cell_type": "code",
   "execution_count": null,
   "id": "8c6c1f8a",
   "metadata": {
    "scrolled": false
   },
   "outputs": [],
   "source": [
    "df['Отзывы'].value_counts()"
   ]
  },
  {
   "cell_type": "code",
   "execution_count": null,
   "id": "e3941084",
   "metadata": {},
   "outputs": [],
   "source": [
    "df[df['Отзывы'] == '']"
   ]
  },
  {
   "cell_type": "code",
   "execution_count": null,
   "id": "9626ee4c",
   "metadata": {
    "scrolled": false
   },
   "outputs": [],
   "source": [
    "sns.set(rc={'figure.figsize':(10,6)})\n",
    "sns.countplot(df['Отзывы'])"
   ]
  },
  {
   "cell_type": "code",
   "execution_count": null,
   "id": "9c404514",
   "metadata": {},
   "outputs": [],
   "source": [
    "sns.countplot(x='Отзывы', hue='Тип',data = df)"
   ]
  },
  {
   "cell_type": "markdown",
   "id": "cb98cf56",
   "metadata": {},
   "source": [
    "### Самый высокий рейтинг"
   ]
  },
  {
   "cell_type": "code",
   "execution_count": null,
   "id": "a46952ec",
   "metadata": {},
   "outputs": [],
   "source": [
    "df.sort_values(by = 'Рейтинг', ascending = False).head(20)"
   ]
  },
  {
   "cell_type": "code",
   "execution_count": null,
   "id": "a92c50ad",
   "metadata": {},
   "outputs": [],
   "source": [
    "df['Рейтинг'] = (df['Рейтинг'].str.split('%').str[0]).astype(int)\n",
    "\n",
    "sns.distplot(df['Рейтинг'])"
   ]
  },
  {
   "cell_type": "markdown",
   "id": "51935e36",
   "metadata": {},
   "source": [
    "## 3. Жанры"
   ]
  },
  {
   "cell_type": "code",
   "execution_count": null,
   "id": "caa5f6a3",
   "metadata": {},
   "outputs": [],
   "source": []
  }
 ],
 "metadata": {
  "kernelspec": {
   "display_name": "Python 3 (ipykernel)",
   "language": "python",
   "name": "python3"
  },
  "language_info": {
   "codemirror_mode": {
    "name": "ipython",
    "version": 3
   },
   "file_extension": ".py",
   "mimetype": "text/x-python",
   "name": "python",
   "nbconvert_exporter": "python",
   "pygments_lexer": "ipython3",
   "version": "3.9.5"
  }
 },
 "nbformat": 4,
 "nbformat_minor": 5
}
